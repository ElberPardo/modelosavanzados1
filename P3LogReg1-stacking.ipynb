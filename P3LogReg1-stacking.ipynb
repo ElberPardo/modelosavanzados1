{
 "cells": [
  {
   "cell_type": "markdown",
   "metadata": {
    "colab_type": "text",
    "id": "Cdv4UHRhyQCH"
   },
   "source": [
    "# Proyecto 3\n"
   ]
  },
  {
   "cell_type": "markdown",
   "metadata": {},
   "source": [
    "### GRUPO 2:\n",
    "    \n",
    "Marta Pizarro 202027959\n",
    "\n",
    "Diego Quevedo 200914623\n",
    "\n",
    "Alfredo Hincapié 199817792\n",
    "\n",
    "Guillermo Andrade 202027949\n",
    "\n",
    "Elber Pardo 200017815"
   ]
  },
  {
   "cell_type": "markdown",
   "metadata": {
    "colab_type": "text",
    "id": "jSNIe5-nzRYe"
   },
   "source": [
    "### **Importar librerias y base de datos *train* y *test***\n"
   ]
  },
  {
   "cell_type": "code",
   "execution_count": 143,
   "metadata": {},
   "outputs": [],
   "source": [
    "import warnings; \n",
    "warnings.simplefilter('ignore')"
   ]
  },
  {
   "cell_type": "code",
   "execution_count": 144,
   "metadata": {
    "colab": {
     "base_uri": "https://localhost:8080/"
    },
    "colab_type": "code",
    "executionInfo": {
     "elapsed": 3734,
     "status": "ok",
     "timestamp": 1595295058895,
     "user": {
      "displayName": "Angie Chacón",
      "photoUrl": "",
      "userId": "05104623104353886941"
     },
     "user_tz": 300
    },
    "id": "1iFeI9XppawN",
    "outputId": "f1634180-503b-4c3c-8c00-a1a9a248c0f9"
   },
   "outputs": [
    {
     "name": "stderr",
     "output_type": "stream",
     "text": [
      "[nltk_data] Downloading package wordnet to\n",
      "[nltk_data]     C:\\Users\\pcmgmt\\AppData\\Roaming\\nltk_data...\n",
      "[nltk_data]   Package wordnet is already up-to-date!\n",
      "[nltk_data] Downloading package stopwords to\n",
      "[nltk_data]     C:\\Users\\pcmgmt\\AppData\\Roaming\\nltk_data...\n",
      "[nltk_data]   Package stopwords is already up-to-date!\n",
      "[nltk_data] Downloading package punkt to\n",
      "[nltk_data]     C:\\Users\\pcmgmt\\AppData\\Roaming\\nltk_data...\n",
      "[nltk_data]   Package punkt is already up-to-date!\n"
     ]
    }
   ],
   "source": [
    "#Importar librerías y cargar la base de datos\n",
    "import pandas as pd\n",
    "import os\n",
    "import numpy as np\n",
    "from sklearn.feature_extraction.text import CountVectorizer, TfidfVectorizer\n",
    "from sklearn.preprocessing import MultiLabelBinarizer\n",
    "from sklearn.multiclass import OneVsRestClassifier\n",
    "from sklearn.ensemble import RandomForestRegressor, RandomForestClassifier\n",
    "from sklearn.metrics import r2_score, roc_auc_score\n",
    "from sklearn.model_selection import train_test_split, cross_val_score\n",
    "import nltk\n",
    "from nltk.corpus import stopwords\n",
    "from nltk  import word_tokenize\n",
    "import string\n",
    "nltk.download('wordnet')\n",
    "nltk.download('stopwords')\n",
    "nltk.download('punkt')\n",
    "english_stopwords = stopwords.words('english')\n",
    "punctuation = string.punctuation"
   ]
  },
  {
   "cell_type": "code",
   "execution_count": 92,
   "metadata": {
    "colab": {},
    "colab_type": "code",
    "id": "v4diniPFpfjj"
   },
   "outputs": [],
   "source": [
    "#Importar bases\n",
    "dataTrain = pd.read_csv('https://github.com/albahnsen/AdvancedMethodsDataAnalysisClass/raw/master/datasets/dataTraining.zip', encoding='UTF-8', index_col=0)\n",
    "\n",
    "datatest = pd.read_csv('https://github.com/albahnsen/AdvancedMethodsDataAnalysisClass/raw/master/datasets/dataTesting.zip', encoding='UTF-8', index_col=0)\n",
    "\n",
    "dataTraining = dataTrain.reset_index(drop=True)\n"
   ]
  },
  {
   "cell_type": "code",
   "execution_count": 3,
   "metadata": {
    "colab": {
     "base_uri": "https://localhost:8080/"
    },
    "colab_type": "code",
    "executionInfo": {
     "elapsed": 6082,
     "status": "ok",
     "timestamp": 1595295061289,
     "user": {
      "displayName": "Angie Chacón",
      "photoUrl": "",
      "userId": "05104623104353886941"
     },
     "user_tz": 300
    },
    "id": "FyK11tVk1lxo",
    "outputId": "1d1c0fdb-0f5d-40e4-f26b-aaa48c81f7df"
   },
   "outputs": [
    {
     "name": "stdout",
     "output_type": "stream",
     "text": [
      "Variables BD Test Index(['year', 'title', 'plot'], dtype='object')\n",
      "Variables BD Train Index(['year', 'title', 'plot', 'genres', 'rating'], dtype='object')\n"
     ]
    }
   ],
   "source": [
    "#Revisar las columnas de cada dataframe\n",
    "print('Variables BD Test', datatest.columns)\n",
    "print('Variables BD Train',dataTraining.columns)"
   ]
  },
  {
   "cell_type": "markdown",
   "metadata": {
    "colab_type": "text",
    "id": "LwhNeken1qTD"
   },
   "source": [
    "La base de Test no tiene rating de la película, de modo que se trabajara con los variables year, title, plot y base"
   ]
  },
  {
   "cell_type": "code",
   "execution_count": 93,
   "metadata": {
    "colab": {
     "base_uri": "https://localhost:8080/"
    },
    "colab_type": "code",
    "executionInfo": {
     "elapsed": 6065,
     "status": "ok",
     "timestamp": 1595295061291,
     "user": {
      "displayName": "Angie Chacón",
      "photoUrl": "",
      "userId": "05104623104353886941"
     },
     "user_tz": 300
    },
    "id": "UU3HS-MpHoNK",
    "outputId": "4344157e-75e1-427f-e572-79ecf1d5a092"
   },
   "outputs": [
    {
     "name": "stdout",
     "output_type": "stream",
     "text": [
      "<class 'pandas.core.frame.DataFrame'>\n",
      "RangeIndex: 7895 entries, 0 to 7894\n",
      "Data columns (total 5 columns):\n",
      " #   Column  Non-Null Count  Dtype  \n",
      "---  ------  --------------  -----  \n",
      " 0   year    7895 non-null   int64  \n",
      " 1   title   7895 non-null   object \n",
      " 2   plot    7895 non-null   object \n",
      " 3   genres  7895 non-null   object \n",
      " 4   rating  7895 non-null   float64\n",
      "dtypes: float64(1), int64(1), object(3)\n",
      "memory usage: 308.5+ KB\n",
      "None\n",
      "<class 'pandas.core.frame.DataFrame'>\n",
      "Int64Index: 3383 entries, 1 to 11275\n",
      "Data columns (total 3 columns):\n",
      " #   Column  Non-Null Count  Dtype \n",
      "---  ------  --------------  ----- \n",
      " 0   year    3383 non-null   int64 \n",
      " 1   title   3383 non-null   object\n",
      " 2   plot    3383 non-null   object\n",
      "dtypes: int64(1), object(2)\n",
      "memory usage: 105.7+ KB\n",
      "None\n"
     ]
    }
   ],
   "source": [
    "#Revisión del componente del dataframe\n",
    "print(dataTraining.info())\n",
    "print(datatest.info())"
   ]
  },
  {
   "cell_type": "markdown",
   "metadata": {
    "colab_type": "text",
    "id": "7GyHGUbm0xF_"
   },
   "source": [
    "### **ANÁLISIS EXPLORATORIO**"
   ]
  },
  {
   "cell_type": "markdown",
   "metadata": {
    "colab_type": "text",
    "id": "iersLlZr1ZQT"
   },
   "source": [
    "**Datos faltantes**"
   ]
  },
  {
   "cell_type": "code",
   "execution_count": 5,
   "metadata": {
    "colab": {
     "base_uri": "https://localhost:8080/"
    },
    "colab_type": "code",
    "executionInfo": {
     "elapsed": 6044,
     "status": "ok",
     "timestamp": 1595295061292,
     "user": {
      "displayName": "Angie Chacón",
      "photoUrl": "",
      "userId": "05104623104353886941"
     },
     "user_tz": 300
    },
    "id": "UsApPTzo085u",
    "outputId": "3cea4f9e-ac55-4f74-d42d-541c16440af4",
    "scrolled": true
   },
   "outputs": [
    {
     "name": "stdout",
     "output_type": "stream",
     "text": [
      "TRAIN\n",
      "year      0\n",
      "title     0\n",
      "plot      0\n",
      "genres    0\n",
      "rating    0\n",
      "dtype: int64\n",
      "(7895, 5)\n",
      "TEST\n",
      "year     0\n",
      "title    0\n",
      "plot     0\n",
      "dtype: int64\n",
      "(3383, 3)\n"
     ]
    }
   ],
   "source": [
    "#identificar si hay valores NAN en los datos TRAIN y TEST\n",
    "print(\"TRAIN\")\n",
    "print(dataTraining.isna().sum())\n",
    "print(dataTraining.shape)\n",
    "\n",
    "print(\"TEST\")\n",
    "print(datatest.isna().sum())\n",
    "print(datatest.shape)"
   ]
  },
  {
   "cell_type": "markdown",
   "metadata": {
    "colab_type": "text",
    "id": "yH-guPNr1e80"
   },
   "source": [
    "NO se identifican valores faltantes"
   ]
  },
  {
   "cell_type": "markdown",
   "metadata": {},
   "source": [
    "**Recuento de palabras en la reseña**"
   ]
  },
  {
   "cell_type": "code",
   "execution_count": 94,
   "metadata": {
    "colab": {
     "base_uri": "https://localhost:8080/"
    },
    "colab_type": "code",
    "executionInfo": {
     "elapsed": 10368,
     "status": "ok",
     "timestamp": 1595295065658,
     "user": {
      "displayName": "Angie Chacón",
      "photoUrl": "",
      "userId": "05104623104353886941"
     },
     "user_tz": 300
    },
    "id": "1W17mCUH3QEH",
    "outputId": "fdf30647-e880-4499-b730-876e1fa851a3"
   },
   "outputs": [
    {
     "data": {
      "image/png": "[encoded data removed]",
      "text/plain": [
       "<Figure size 432x288 with 1 Axes>"
      ]
     },
     "metadata": {
      "needs_background": "light"
     },
     "output_type": "display_data"
    },
    {
     "name": "stdout",
     "output_type": "stream",
     "text": [
      "count    7895.000000\n",
      "mean      160.029006\n",
      "std       106.253661\n",
      "min         1.000000\n",
      "25%        88.000000\n",
      "50%       141.000000\n",
      "75%       202.000000\n",
      "max      1975.000000\n",
      "Name: totalwords, dtype: float64\n",
      "484.119999999999\n"
     ]
    },
    {
     "data": {
      "text/plain": [
       "<Figure size 1440x720 with 0 Axes>"
      ]
     },
     "metadata": {},
     "output_type": "display_data"
    }
   ],
   "source": [
    "import matplotlib.pyplot as plt\n",
    "import numpy as np \n",
    "\n",
    "#Variable que cuenta el número de palabras que contiene el plot\n",
    "dataTraining['totalwords'] = dataTraining['plot'].str.count(' ') + 1\n",
    "x = dataTraining['totalwords'].sort_values()\n",
    "n_bins = 1980\n",
    "\n",
    "#Histograma de la cantidad de palabras que contiene cada plot\n",
    "plt.hist(x, bins=n_bins)\n",
    "plt.show()\n",
    "plt.figure(figsize=(20,10))\n",
    "print(dataTraining['totalwords'].describe())\n",
    "print(np.quantile(dataTraining['totalwords'], .99))\n"
   ]
  },
  {
   "cell_type": "code",
   "execution_count": 95,
   "metadata": {
    "colab": {
     "base_uri": "https://localhost:8080/"
    },
    "colab_type": "code",
    "executionInfo": {
     "elapsed": 10349,
     "status": "ok",
     "timestamp": 1595295065660,
     "user": {
      "displayName": "Angie Chacón",
      "photoUrl": "",
      "userId": "05104623104353886941"
     },
     "user_tz": 300
    },
    "id": "x4PAWRb27i9p",
    "outputId": "0353aff3-e7b4-4a22-c02e-ff08aa62e014",
    "scrolled": true
   },
   "outputs": [
    {
     "data": {
      "text/html": [
       "<div>\n",
       "<style scoped>\n",
       "    .dataframe tbody tr th:only-of-type {\n",
       "        vertical-align: middle;\n",
       "    }\n",
       "\n",
       "    .dataframe tbody tr th {\n",
       "        vertical-align: top;\n",
       "    }\n",
       "\n",
       "    .dataframe thead th {\n",
       "        text-align: right;\n",
       "    }\n",
       "</style>\n",
       "<table border=\"1\" class=\"dataframe\">\n",
       "  <thead>\n",
       "    <tr style=\"text-align: right;\">\n",
       "      <th></th>\n",
       "      <th>year</th>\n",
       "      <th>title</th>\n",
       "      <th>plot</th>\n",
       "      <th>genres</th>\n",
       "      <th>rating</th>\n",
       "      <th>totalwords</th>\n",
       "    </tr>\n",
       "  </thead>\n",
       "  <tbody>\n",
       "    <tr>\n",
       "      <th>3332</th>\n",
       "      <td>2011</td>\n",
       "      <td>George Harrison: Living in the Material World</td>\n",
       "      <td>filmmaker</td>\n",
       "      <td>['Documentary', 'Biography', 'Music']</td>\n",
       "      <td>8.2</td>\n",
       "      <td>1</td>\n",
       "    </tr>\n",
       "    <tr>\n",
       "      <th>1531</th>\n",
       "      <td>2013</td>\n",
       "      <td>I Am Divine</td>\n",
       "      <td>how</td>\n",
       "      <td>['Documentary']</td>\n",
       "      <td>7.7</td>\n",
       "      <td>1</td>\n",
       "    </tr>\n",
       "    <tr>\n",
       "      <th>7171</th>\n",
       "      <td>2013</td>\n",
       "      <td>Lovelace</td>\n",
       "      <td>the story of</td>\n",
       "      <td>['Biography', 'Drama']</td>\n",
       "      <td>6.2</td>\n",
       "      <td>3</td>\n",
       "    </tr>\n",
       "    <tr>\n",
       "      <th>4388</th>\n",
       "      <td>2005</td>\n",
       "      <td>Don't Come Knocking</td>\n",
       "      <td>howard spence  (</td>\n",
       "      <td>['Drama', 'Music']</td>\n",
       "      <td>6.7</td>\n",
       "      <td>4</td>\n",
       "    </tr>\n",
       "    <tr>\n",
       "      <th>2351</th>\n",
       "      <td>2000</td>\n",
       "      <td>The Endurance: Shackleton's Legendary Antarcti...</td>\n",
       "      <td>a retelling of sir</td>\n",
       "      <td>['Documentary', 'History']</td>\n",
       "      <td>7.9</td>\n",
       "      <td>4</td>\n",
       "    </tr>\n",
       "    <tr>\n",
       "      <th>4387</th>\n",
       "      <td>2013</td>\n",
       "      <td>One Chance</td>\n",
       "      <td>the true story of</td>\n",
       "      <td>['Biography', 'Comedy', 'Drama', 'Music']</td>\n",
       "      <td>6.8</td>\n",
       "      <td>4</td>\n",
       "    </tr>\n",
       "    <tr>\n",
       "      <th>2711</th>\n",
       "      <td>1997</td>\n",
       "      <td>Wild Man Blues</td>\n",
       "      <td>academy award - winner</td>\n",
       "      <td>['Documentary', 'Music']</td>\n",
       "      <td>7.0</td>\n",
       "      <td>4</td>\n",
       "    </tr>\n",
       "    <tr>\n",
       "      <th>5838</th>\n",
       "      <td>1994</td>\n",
       "      <td>The Cowboy Way</td>\n",
       "      <td>buddies pepper lewis  (</td>\n",
       "      <td>['Action', 'Comedy', 'Crime', 'Drama', 'Thrill...</td>\n",
       "      <td>5.7</td>\n",
       "      <td>5</td>\n",
       "    </tr>\n",
       "    <tr>\n",
       "      <th>2246</th>\n",
       "      <td>2001</td>\n",
       "      <td>3 A.M.</td>\n",
       "      <td>the feature film directing debut of</td>\n",
       "      <td>['Crime', 'Mystery', 'Romance']</td>\n",
       "      <td>5.9</td>\n",
       "      <td>6</td>\n",
       "    </tr>\n",
       "    <tr>\n",
       "      <th>3151</th>\n",
       "      <td>1997</td>\n",
       "      <td>Full Tilt Boogie</td>\n",
       "      <td>a documentary about the production of</td>\n",
       "      <td>['Documentary']</td>\n",
       "      <td>6.5</td>\n",
       "      <td>6</td>\n",
       "    </tr>\n",
       "  </tbody>\n",
       "</table>\n",
       "</div>"
      ],
      "text/plain": [
       "      year                                              title  \\\n",
       "3332  2011      George Harrison: Living in the Material World   \n",
       "1531  2013                                        I Am Divine   \n",
       "7171  2013                                           Lovelace   \n",
       "4388  2005                                Don't Come Knocking   \n",
       "2351  2000  The Endurance: Shackleton's Legendary Antarcti...   \n",
       "4387  2013                                         One Chance   \n",
       "2711  1997                                     Wild Man Blues   \n",
       "5838  1994                                     The Cowboy Way   \n",
       "2246  2001                                             3 A.M.   \n",
       "3151  1997                                   Full Tilt Boogie   \n",
       "\n",
       "                                       plot  \\\n",
       "3332                              filmmaker   \n",
       "1531                                    how   \n",
       "7171                           the story of   \n",
       "4388                       howard spence  (   \n",
       "2351                     a retelling of sir   \n",
       "4387                      the true story of   \n",
       "2711                 academy award - winner   \n",
       "5838                buddies pepper lewis  (   \n",
       "2246    the feature film directing debut of   \n",
       "3151  a documentary about the production of   \n",
       "\n",
       "                                                 genres  rating  totalwords  \n",
       "3332              ['Documentary', 'Biography', 'Music']     8.2           1  \n",
       "1531                                    ['Documentary']     7.7           1  \n",
       "7171                             ['Biography', 'Drama']     6.2           3  \n",
       "4388                                 ['Drama', 'Music']     6.7           4  \n",
       "2351                         ['Documentary', 'History']     7.9           4  \n",
       "4387          ['Biography', 'Comedy', 'Drama', 'Music']     6.8           4  \n",
       "2711                           ['Documentary', 'Music']     7.0           4  \n",
       "5838  ['Action', 'Comedy', 'Crime', 'Drama', 'Thrill...     5.7           5  \n",
       "2246                    ['Crime', 'Mystery', 'Romance']     5.9           6  \n",
       "3151                                    ['Documentary']     6.5           6  "
      ]
     },
     "execution_count": 95,
     "metadata": {},
     "output_type": "execute_result"
    }
   ],
   "source": [
    "#Lista de películas con menor y mayor cantidad de palabras\n",
    "dataTraining.sort_values('totalwords',  ascending=True)[:10]"
   ]
  },
  {
   "cell_type": "code",
   "execution_count": 96,
   "metadata": {
    "colab": {
     "base_uri": "https://localhost:8080/"
    },
    "colab_type": "code",
    "executionInfo": {
     "elapsed": 10330,
     "status": "ok",
     "timestamp": 1595295065662,
     "user": {
      "displayName": "Angie Chacón",
      "photoUrl": "",
      "userId": "05104623104353886941"
     },
     "user_tz": 300
    },
    "id": "BnDF05ojRoKU",
    "outputId": "28db0d32-d555-4562-9190-4952c6298bf4"
   },
   "outputs": [
    {
     "data": {
      "text/plain": [
       "(7888, 6)"
      ]
     },
     "execution_count": 96,
     "metadata": {},
     "output_type": "execute_result"
    }
   ],
   "source": [
    "dataTraining1 = dataTraining.drop(dataTraining[dataTraining.totalwords < 5].index)\n",
    "dataTraining1.shape"
   ]
  },
  {
   "cell_type": "markdown",
   "metadata": {
    "colab_type": "text",
    "id": "7BOmWVq-4UnT"
   },
   "source": [
    "Las reseñas de las peliculas tienen entre 1 (George Harrison... y I Am Divine) y 1975 palabras(The Flame and the Arrow), con 160 en promedio."
   ]
  },
  {
   "cell_type": "markdown",
   "metadata": {
    "colab_type": "text",
    "id": "uPJF2O_TO1W_"
   },
   "source": [
    "**Lista de stopwords personalizada**\n",
    "\n",
    "En la base de datos original se encontraron palabras poco usadas \"raras\" y números con combinaciones que se descartan de las bases."
   ]
  },
  {
   "cell_type": "code",
   "execution_count": 98,
   "metadata": {
    "colab": {},
    "colab_type": "code",
    "id": "85tD3AVWyq0l"
   },
   "outputs": [],
   "source": [
    "df = pd.concat([dataTraining,datatest])\n",
    "raro=['a$$','olé', '£', '°f', '½', 'è', 'état', 'òs', 'ôishi', 'ö', '¡olé','ásgeirsson', 'æ', 'bonifácio', \n",
    "      'janácek', 'lázaro', 'aa', 'aaa','æon', 'émigré', 'époque', 'über','N']\n",
    "numero= ['1', '10', '100', '1000', '10000', '1001', '101', '102', '109', '10th', '11', '110901', '110th', '111111',\n",
    "        '1138', '11th', '12', '13', '1303', '131313', '13th', '1408', '15', '16', '1600', '17', '175', '18', '180°',\n",
    "        '19', '1933', '1935', '1936', '1940', '1941', '1975', '1984', '1991', '1999', '2', '20', '200', '2000', '20000', \n",
    "        '2001', '2016', '2081', '21', '22', '23', '237', '247°f', '24th', '25', '25th', '27', '28', '29', '29th', '2nd','aaron',\n",
    "        '2½', '3', '30', '300', '3000', '310', '33', '34th', '360', '3d', '3rd', '4', '40', '4111', '42nd', '43', '444', \n",
    "        '45', '47', '48', '4d', '4eb', '4th','180', '247','1114', '127', '14th', '1776', '1929', '19671975', '1969', '1st', '2010',\n",
    "        '2012', '35', '36', '362', '37th', '39', '3dd', '42', '44', '49', '50', '500', '5000', '5050', '51', '52', '54', '55', '57',\n",
    "        '60', '633', '65000', '66', '666', '69th', '6th', '73', '7500', '76', '77', '777', '79', '7th', '80', '81', '83', '84', '88', \n",
    "        '8mm', '8th', '911', '92nd', '93', '96', '976evil', '99','212', '247f']\n",
    "propias_stopwords =  english_stopwords + raro + numero"
   ]
  },
  {
   "cell_type": "markdown",
   "metadata": {
    "colab_type": "text",
    "id": "Za4U0FaSA2T5"
   },
   "source": [
    "**Películas por género**"
   ]
  },
  {
   "cell_type": "code",
   "execution_count": 99,
   "metadata": {
    "colab": {
     "base_uri": "https://localhost:8080/"
    },
    "colab_type": "code",
    "executionInfo": {
     "elapsed": 10281,
     "status": "ok",
     "timestamp": 1595295065670,
     "user": {
      "displayName": "Angie Chacón",
      "photoUrl": "",
      "userId": "05104623104353886941"
     },
     "user_tz": 300
    },
    "id": "3rkqTek_BOzI",
    "outputId": "53d201e7-90ae-4ed7-b2b9-cf3b74051ee0"
   },
   "outputs": [
    {
     "data": {
      "text/plain": [
       "['Drama']                         429\n",
       "['Comedy']                        368\n",
       "['Comedy', 'Drama', 'Romance']    306\n",
       "['Comedy', 'Romance']             291\n",
       "['Comedy', 'Drama']               287\n",
       "['Drama', 'Romance']              282\n",
       "['Documentary']                   154\n",
       "['Crime', 'Drama', 'Thriller']    125\n",
       "['Horror']                        115\n",
       "['Drama', 'Thriller']             115\n",
       "Name: genres, dtype: int64"
      ]
     },
     "execution_count": 99,
     "metadata": {},
     "output_type": "execute_result"
    }
   ],
   "source": [
    "dataTraining.genres.value_counts()[:10]"
   ]
  },
  {
   "cell_type": "code",
   "execution_count": 101,
   "metadata": {
    "colab": {
     "base_uri": "https://localhost:8080/"
    },
    "colab_type": "code",
    "executionInfo": {
     "elapsed": 10260,
     "status": "ok",
     "timestamp": 1595295065671,
     "user": {
      "displayName": "Angie Chacón",
      "photoUrl": "",
      "userId": "05104623104353886941"
     },
     "user_tz": 300
    },
    "id": "c7VOpN0bA6i7",
    "outputId": "d29dd814-20c1-4735-82f1-5833ac310059"
   },
   "outputs": [
    {
     "data": {
      "text/plain": [
       "<AxesSubplot:>"
      ]
     },
     "execution_count": 101,
     "metadata": {},
     "output_type": "execute_result"
    },
    {
     "data": {
      "image/png": "[encoded data removed]",
      "text/plain": [
       "<Figure size 432x288 with 1 Axes>"
      ]
     },
     "metadata": {
      "needs_background": "light"
     },
     "output_type": "display_data"
    }
   ],
   "source": [
    "#Graficar el conteo por variable genres\n",
    "dataTraining.genres.value_counts()[:20].sort_values(ascending=False).plot(kind = 'bar')"
   ]
  },
  {
   "cell_type": "markdown",
   "metadata": {
    "colab_type": "text",
    "id": "6vw1zfBaCtlg"
   },
   "source": [
    "### **TfidfVectorizer para las variables *plot*, *title* y *year***"
   ]
  },
  {
   "cell_type": "markdown",
   "metadata": {
    "colab_type": "text",
    "id": "VE-J9RM3SZpb"
   },
   "source": [
    "#### **Variable *plot***\n",
    "Se estandariza el texto de las reseñas, se quitan los signos de puntuación, se convierten todas als letras a minúsculas (lower case), se extrae la raíz de las palabras "
   ]
  },
  {
   "cell_type": "code",
   "execution_count": 145,
   "metadata": {
    "colab": {
     "base_uri": "https://localhost:8080/",
     "height": 230
    },
    "colab_type": "code",
    "executionInfo": {
     "elapsed": 25577,
     "status": "ok",
     "timestamp": 1595295081010,
     "user": {
      "displayName": "Angie Chacón",
      "photoUrl": "",
      "userId": "05104623104353886941"
     },
     "user_tz": 300
    },
    "id": "ggDLGsDwwPhy",
    "outputId": "55bea9fd-9d21-49af-953f-437ee0f45331"
   },
   "outputs": [
    {
     "data": {
      "text/plain": [
       "0        most is the stori of a singl father who take h...\n",
       "1        a serial killer decid to teach the secret of h...\n",
       "2        in sweden a femal blackmail with a disfigur fa...\n",
       "3        in a friday afternoon in new york the presid o...\n",
       "4        in los angel the editor of a publish hous caro...\n",
       "                               ...                        \n",
       "11263    in bangkok an assassin who turn down a job tha...\n",
       "11265    eleven separ vignett are present in each celeb...\n",
       "11269    joey evan is charm handsom funni talent and a ...\n",
       "11270    when the sing veggi encount some car troubl th...\n",
       "11275    a genet mutat dog is stolen from the lab of ma...\n",
       "Name: plot, Length: 11278, dtype: object"
      ]
     },
     "execution_count": 145,
     "metadata": {},
     "output_type": "execute_result"
    }
   ],
   "source": [
    "from nltk.stem.snowball import SnowballStemmer\n",
    "stemmer = SnowballStemmer('english')\n",
    "\n",
    "\n",
    "# Quitar signos de puntuación\n",
    "for i in range(0,len(punctuation)):\n",
    "  df['plot'] = df['plot'].str.replace(punctuation[i],'')\n",
    "\n",
    "#Cambiar por minúsculas\n",
    "df['plot'] = df['plot'].str.lower()\n",
    "\n",
    "#Se lematiza (Volvemos al verbo (Significado))\n",
    "w_tokenizer = nltk.tokenize.WhitespaceTokenizer()\n",
    "lemmatizer = nltk.stem.WordNetLemmatizer()\n",
    "\n",
    "def lemmatize_text(text):\n",
    "  return ','.join([lemmatizer.lemmatize(w) for w in w_tokenizer.tokenize(text)]).replace(',',' ')\n",
    "\n",
    "#Sacar la raíz de las palabras\n",
    "def raiz(text):\n",
    "  return ','.join([stemmer.stem(w) for w in w_tokenizer.tokenize(text)]).replace(',',' ')\n",
    "\n",
    "\n",
    "df['plot'] = df['plot'].apply(raiz)\n",
    "df['plot']"
   ]
  },
  {
   "cell_type": "markdown",
   "metadata": {},
   "source": [
    "Se aplica la función de Tdifvectorizer."
   ]
  },
  {
   "cell_type": "code",
   "execution_count": 167,
   "metadata": {
    "colab": {
     "base_uri": "https://localhost:8080/",
     "height": 55
    },
    "colab_type": "code",
    "executionInfo": {
     "elapsed": 36043,
     "status": "ok",
     "timestamp": 1595295091498,
     "user": {
      "displayName": "Angie Chacón",
      "photoUrl": "",
      "userId": "05104623104353886941"
     },
     "user_tz": 300
    },
    "id": "RyaoMvhgutbx",
    "outputId": "080d641c-2c1a-462a-8d94-b252b8c30fb7"
   },
   "outputs": [
    {
     "name": "stdout",
     "output_type": "stream",
     "text": [
      "['abandon', 'abandon boy', 'abandon build', 'abandon famili', 'abandon father', 'abandon hous', 'abandon mother', 'abbey', 'abbi', 'abbott', 'abdomen', 'abduct', 'abductor', 'abe', 'abel', 'abhor', 'abhorr', 'abid', 'abigail', 'abil', 'abil chang', 'abil see', 'abl', 'abl achiev', 'abl carri', 'abl control', 'abl convinc', 'abl eke', 'abl escap', 'abl find', 'abl fulfil', 'abl get', 'abl give', 'abl handl', 'abl infiltr', 'abl keep', 'abl live', 'abl make', 'abl pay', 'abl piec', 'abl provid', 'abl save', 'abl see', 'abl stay', 'abl stop', 'abl surviv', 'abl take', 'abl track', 'abl use', 'abner', 'aboard', 'aboard ship', 'abolish', 'abomin', 'abort', 'abound', 'abov', 'abov ground', 'abra', 'abraham', 'abraham lincoln', 'abram', 'abroad', 'abrupt', 'abscond', 'absenc', 'absent', 'absent father', 'absolut', 'absorb', 'abstract', 'absurd', 'abu', 'abus', 'abus boyfriend', 'abus father', 'abus humili', 'abus husband', 'abus mother', 'abyss', 'academ', 'academi', 'academi award', 'academia', 'acapulco', 'accel', 'accent', 'accept', 'accept assign', 'accept challeng', 'accept deal', 'accept first', 'accept help', 'accept invit', 'accept job', 'accept marriag', 'accept new', 'accept offer', 'accept one', 'accept propo']\n"
     ]
    }
   ],
   "source": [
    "# create a document-term matrix using TF-IDF (Term Frequency-Inverse Document Frequency (TF-IDF))\n",
    "vect = TfidfVectorizer(   min_df=4, stop_words=propias_stopwords, ngram_range=(1, 2), sublinear_tf='bool' )\n",
    "dtm = vect.fit_transform(df['plot'])\n",
    "datatf = pd.DataFrame(vect.fit_transform(df['plot']).toarray(), columns=[str(col)+'_res' for col in vect.get_feature_names()])\n",
    "\n",
    "dtm_train = datatf.iloc[:len(dataTraining),:]\n",
    "dtm_test = datatf.iloc[len(dataTraining):,:]\n",
    "\n",
    "#Lista de palabras - para el ejemplo imprimimos las 100 primeras palabras\n",
    "print (vect.get_feature_names()[:100])"
   ]
  },
  {
   "cell_type": "code",
   "execution_count": 106,
   "metadata": {
    "colab": {
     "base_uri": "https://localhost:8080/",
     "height": 390
    },
    "colab_type": "code",
    "executionInfo": {
     "elapsed": 36624,
     "status": "ok",
     "timestamp": 1595295092104,
     "user": {
      "displayName": "Angie Chacón",
      "photoUrl": "",
      "userId": "05104623104353886941"
     },
     "user_tz": 300
    },
    "id": "ot7iYXiRWaeU",
    "outputId": "9808e2e5-9cfd-448e-ef39-01bbdfeecf1a"
   },
   "outputs": [
    {
     "data": {
      "text/html": [
       "<div>\n",
       "<style scoped>\n",
       "    .dataframe tbody tr th:only-of-type {\n",
       "        vertical-align: middle;\n",
       "    }\n",
       "\n",
       "    .dataframe tbody tr th {\n",
       "        vertical-align: top;\n",
       "    }\n",
       "\n",
       "    .dataframe thead th {\n",
       "        text-align: right;\n",
       "    }\n",
       "</style>\n",
       "<table border=\"1\" class=\"dataframe\">\n",
       "  <thead>\n",
       "    <tr style=\"text-align: right;\">\n",
       "      <th></th>\n",
       "      <th>0</th>\n",
       "    </tr>\n",
       "  </thead>\n",
       "  <tbody>\n",
       "    <tr>\n",
       "      <th>find</th>\n",
       "      <td>164.603700</td>\n",
       "    </tr>\n",
       "    <tr>\n",
       "      <th>one</th>\n",
       "      <td>161.504835</td>\n",
       "    </tr>\n",
       "    <tr>\n",
       "      <th>get</th>\n",
       "      <td>156.169260</td>\n",
       "    </tr>\n",
       "    <tr>\n",
       "      <th>life</th>\n",
       "      <td>152.613669</td>\n",
       "    </tr>\n",
       "    <tr>\n",
       "      <th>new</th>\n",
       "      <td>138.295808</td>\n",
       "    </tr>\n",
       "    <tr>\n",
       "      <th>friend</th>\n",
       "      <td>135.285800</td>\n",
       "    </tr>\n",
       "    <tr>\n",
       "      <th>year</th>\n",
       "      <td>128.599419</td>\n",
       "    </tr>\n",
       "    <tr>\n",
       "      <th>man</th>\n",
       "      <td>126.997726</td>\n",
       "    </tr>\n",
       "    <tr>\n",
       "      <th>love</th>\n",
       "      <td>126.246188</td>\n",
       "    </tr>\n",
       "    <tr>\n",
       "      <th>live</th>\n",
       "      <td>125.312159</td>\n",
       "    </tr>\n",
       "  </tbody>\n",
       "</table>\n",
       "</div>"
      ],
      "text/plain": [
       "                 0\n",
       "find    164.603700\n",
       "one     161.504835\n",
       "get     156.169260\n",
       "life    152.613669\n",
       "new     138.295808\n",
       "friend  135.285800\n",
       "year    128.599419\n",
       "man     126.997726\n",
       "love    126.246188\n",
       "live    125.312159"
      ]
     },
     "execution_count": 106,
     "metadata": {},
     "output_type": "execute_result"
    }
   ],
   "source": [
    "#Suma de frecuencia relativa por token de títulos\n",
    "df_plot = dtm .toarray().sum(axis=0)\n",
    "df_plot= pd.DataFrame(df_plot.reshape(1, datatf.shape[1]), columns=vect.get_feature_names())\n",
    "df_plot=df_plot.transpose()\n",
    "df_plot.sort_values(by=0, ascending=False)[:10]"
   ]
  },
  {
   "cell_type": "code",
   "execution_count": 176,
   "metadata": {
    "colab": {
     "base_uri": "https://localhost:8080/",
     "height": 266
    },
    "colab_type": "code",
    "executionInfo": {
     "elapsed": 36609,
     "status": "ok",
     "timestamp": 1595295092116,
     "user": {
      "displayName": "Angie Chacón",
      "photoUrl": "",
      "userId": "05104623104353886941"
     },
     "user_tz": 300
    },
    "id": "MvW-ZwBlN3lU",
    "outputId": "9f3ca823-e0dd-400b-98f6-978d3722904d"
   },
   "outputs": [],
   "source": [
    "dtm_train.head()"
   ]
  },
  {
   "cell_type": "markdown",
   "metadata": {
    "colab_type": "text",
    "id": "KrzG0tzz1Tfy"
   },
   "source": [
    "#### **Variable *TITLE***\n",
    "El título de las peliculas también puede ser una fuente de datos, se convierten las palabras en minúsculas, se eliminan signos de puntuación, se construye la función para sacar la raíz de las palabras y finalmente se aplica la función de TdifVectorizer."
   ]
  },
  {
   "cell_type": "code",
   "execution_count": 146,
   "metadata": {
    "colab": {
     "base_uri": "https://localhost:8080/",
     "height": 230
    },
    "colab_type": "code",
    "executionInfo": {
     "elapsed": 37043,
     "status": "ok",
     "timestamp": 1595295092575,
     "user": {
      "displayName": "Angie Chacón",
      "photoUrl": "",
      "userId": "05104623104353886941"
     },
     "user_tz": 300
    },
    "id": "5ByWRZD2TYIb",
    "outputId": "442a4cca-262e-44de-c471-9d3dfe1e2cd0"
   },
   "outputs": [
    {
     "data": {
      "text/plain": [
       "0                             most\n",
       "1        how to be a serial killer\n",
       "2                     a woman face\n",
       "3                      execut suit\n",
       "4                    narrow margin\n",
       "                   ...            \n",
       "11263            the fifth command\n",
       "11265            coff and cigarett\n",
       "11269                     pal joey\n",
       "11270         jonah a veggiet movi\n",
       "11275              man best friend\n",
       "Name: title, Length: 11278, dtype: object"
      ]
     },
     "execution_count": 146,
     "metadata": {},
     "output_type": "execute_result"
    }
   ],
   "source": [
    " # Remplazamos los signos de puntuación (hay casos en los que se tienen signos de puntuación pegados a las palabras)\n",
    "for i in range(0,len(punctuation)):\n",
    "  df['title'] = df['title'].str.replace(punctuation[i],'')\n",
    "\n",
    "#Enviamos todo a minúsculas\n",
    "df['title'] = df['title'].str.lower()\n",
    "\n",
    "#Lematizamos (Volvemos al verbo (Significado))\n",
    "w_tokenizer = nltk.tokenize.WhitespaceTokenizer()\n",
    "\n",
    "#Sacar la raíz de las palabras\n",
    "def raiz(text):\n",
    "  return ','.join([stemmer.stem(w) for w in w_tokenizer.tokenize(text)]).replace(',',' ')\n",
    "\n",
    "df['title'] = df['title'].apply(raiz)\n",
    "df['title']"
   ]
  },
  {
   "cell_type": "code",
   "execution_count": 109,
   "metadata": {
    "colab": {},
    "colab_type": "code",
    "id": "LPkz9qouKcwY"
   },
   "outputs": [],
   "source": [
    "vect2 = TfidfVectorizer(   min_df=4, stop_words=propias_stopwords, ngram_range=(1, 2), sublinear_tf='bool' )\n",
    "dtm2 = vect2.fit_transform(df['title'])\n",
    "datatf2 = pd.DataFrame(vect2.fit_transform(df['title']).toarray(),  columns=[str(col)+'_ti' for col in vect2.get_feature_names()])\n",
    "\n",
    "dtm_train2 = datatf2.iloc[:len(dataTraining),:]\n",
    "dtm_test2 = datatf2.iloc[len(dataTraining):,:]"
   ]
  },
  {
   "cell_type": "code",
   "execution_count": 169,
   "metadata": {
    "colab": {
     "base_uri": "https://localhost:8080/",
     "height": 390
    },
    "colab_type": "code",
    "executionInfo": {
     "elapsed": 37516,
     "status": "ok",
     "timestamp": 1595295093092,
     "user": {
      "displayName": "Angie Chacón",
      "photoUrl": "",
      "userId": "05104623104353886941"
     },
     "user_tz": 300
    },
    "id": "eY7Xby3vVEb0",
    "outputId": "ce1f3aa6-f011-403d-9b8e-3522e20c6a10"
   },
   "outputs": [
    {
     "name": "stdout",
     "output_type": "stream",
     "text": [
      "Lista de palabras en X 1:  ['abbott', 'abbott costello', 'abov', 'academi', 'ace', 'across', 'act', 'action', 'activ', 'adam', 'addict', 'adult', 'adventur', 'affair', 'africa', 'afternoon', 'age', 'air', 'airport', 'alexand', 'ali', 'alic', 'alien', 'aliv', 'alley', 'alon', 'along', 'alway', 'amaz', 'america', 'american', 'american ninja', 'amityvill', 'anatomi', 'angel', 'angri', 'ani', 'anim', 'anna', 'anni', 'anoth', 'anyth', 'apart', 'ape', 'apocalyps', 'arm', 'armi', 'around', 'arrow', 'art', 'arthur', 'artist', 'ass', 'assassin', 'astronaut', 'atlas', 'attack', 'august', 'aveng', 'away', 'babe', 'babi', 'babysitt', 'bachelor', 'back', 'bad', 'bad boy', 'bad news', 'baker', 'ball', 'ballad', 'band', 'bandit', 'bang', 'bank', 'bar', 'barefoot', 'bat', 'batman', 'battl', 'bay', 'beach', 'bear', 'beast', 'beat', 'beauti', 'bee', 'beer', 'befor', 'begin', 'behind', 'believ', 'bell', 'bend', 'beneath', 'best', 'best friend', 'best man', 'better', 'betti']\n"
     ]
    },
    {
     "data": {
      "text/html": [
       "<div>\n",
       "<style scoped>\n",
       "    .dataframe tbody tr th:only-of-type {\n",
       "        vertical-align: middle;\n",
       "    }\n",
       "\n",
       "    .dataframe tbody tr th {\n",
       "        vertical-align: top;\n",
       "    }\n",
       "\n",
       "    .dataframe thead th {\n",
       "        text-align: right;\n",
       "    }\n",
       "</style>\n",
       "<table border=\"1\" class=\"dataframe\">\n",
       "  <thead>\n",
       "    <tr style=\"text-align: right;\">\n",
       "      <th></th>\n",
       "      <th>0</th>\n",
       "    </tr>\n",
       "  </thead>\n",
       "  <tbody>\n",
       "    <tr>\n",
       "      <th>man</th>\n",
       "      <td>123.979493</td>\n",
       "    </tr>\n",
       "    <tr>\n",
       "      <th>love</th>\n",
       "      <td>92.229817</td>\n",
       "    </tr>\n",
       "    <tr>\n",
       "      <th>night</th>\n",
       "      <td>74.158537</td>\n",
       "    </tr>\n",
       "    <tr>\n",
       "      <th>day</th>\n",
       "      <td>65.931305</td>\n",
       "    </tr>\n",
       "    <tr>\n",
       "      <th>girl</th>\n",
       "      <td>64.233883</td>\n",
       "    </tr>\n",
       "    <tr>\n",
       "      <th>dead</th>\n",
       "      <td>61.850386</td>\n",
       "    </tr>\n",
       "    <tr>\n",
       "      <th>movi</th>\n",
       "      <td>56.201226</td>\n",
       "    </tr>\n",
       "    <tr>\n",
       "      <th>last</th>\n",
       "      <td>55.844588</td>\n",
       "    </tr>\n",
       "    <tr>\n",
       "      <th>american</th>\n",
       "      <td>53.455775</td>\n",
       "    </tr>\n",
       "    <tr>\n",
       "      <th>life</th>\n",
       "      <td>52.648357</td>\n",
       "    </tr>\n",
       "  </tbody>\n",
       "</table>\n",
       "</div>"
      ],
      "text/plain": [
       "                   0\n",
       "man       123.979493\n",
       "love       92.229817\n",
       "night      74.158537\n",
       "day        65.931305\n",
       "girl       64.233883\n",
       "dead       61.850386\n",
       "movi       56.201226\n",
       "last       55.844588\n",
       "american   53.455775\n",
       "life       52.648357"
      ]
     },
     "execution_count": 169,
     "metadata": {},
     "output_type": "execute_result"
    }
   ],
   "source": [
    "#Lista de palabras en X\n",
    "print('Lista de palabras en X 1: ', vect2.get_feature_names()[:100])\n",
    "\n",
    "#Suma de frecuencia relativa por token de títulos\n",
    "df_title = dtm2.toarray().sum(axis=0)\n",
    "df_title= pd.DataFrame(df_title.reshape(1, datatf2.shape[1]) , columns=vect2.get_feature_names())\n",
    "df_title=df_title.transpose()\n",
    "df_title.sort_values(by=0, ascending=False)[:10]"
   ]
  },
  {
   "cell_type": "code",
   "execution_count": 177,
   "metadata": {
    "colab": {
     "base_uri": "https://localhost:8080/",
     "height": 266
    },
    "colab_type": "code",
    "executionInfo": {
     "elapsed": 37500,
     "status": "ok",
     "timestamp": 1595295093101,
     "user": {
      "displayName": "Angie Chacón",
      "photoUrl": "",
      "userId": "05104623104353886941"
     },
     "user_tz": 300
    },
    "id": "-xy1YTDCN_n6",
    "outputId": "fbfdab39-1b00-4dad-9231-76867ce8495b"
   },
   "outputs": [],
   "source": [
    "dtm_train2.tail()"
   ]
  },
  {
   "cell_type": "markdown",
   "metadata": {
    "colab_type": "text",
    "id": "f8OImZuwTRvS"
   },
   "source": [
    "#### **Concatenamos Título y reseña (title + plot)**\n",
    "\n",
    "Se crea una nueva variable en la cual se concatena el texto de las variables title y plot en una sola columna. \n",
    "\n",
    "Estandarizar el texto de la variable *title + plot*, se convierten las palabras en minúsculas, se eliminan signos de puntuación, se construye la función para sacar la raíz de las palabras y finalmente se aplica la función de TdifVectorizer.\n",
    "\n"
   ]
  },
  {
   "cell_type": "code",
   "execution_count": 147,
   "metadata": {
    "colab": {
     "base_uri": "https://localhost:8080/",
     "height": 35
    },
    "colab_type": "code",
    "executionInfo": {
     "elapsed": 65558,
     "status": "ok",
     "timestamp": 1595295121236,
     "user": {
      "displayName": "Angie Chacón",
      "photoUrl": "",
      "userId": "05104623104353886941"
     },
     "user_tz": 300
    },
    "id": "hSZjWjYT6EpE",
    "outputId": "57997213-517d-4d2f-e047-5e506e74f511"
   },
   "outputs": [
    {
     "data": {
      "text/plain": [
       "(11278, 28364)"
      ]
     },
     "execution_count": 147,
     "metadata": {},
     "output_type": "execute_result"
    }
   ],
   "source": [
    "\n",
    "from nltk.stem import WordNetLemmatizer \n",
    "wordnet_lemmatizer = WordNetLemmatizer()\n",
    "\n",
    "df['pl_ti'] =df['title']+ ' ' +df['plot'] \n",
    "# Remplazamos los signos de puntuación (hay casos en los que se tienen signos de puntuación pegados a las palabras)\n",
    "for i in range(0,len(punctuation)):\n",
    "  df['pl_ti'] = df['pl_ti'].str.replace(punctuation[i],'')\n",
    "\n",
    "#Enviamos todo a minúsculas\n",
    "df['pl_ti']= df['pl_ti'].str.lower()\n",
    "\n",
    "#Lematizamos (Volvemos al verbo (Significado))\n",
    "w_tokenizer = nltk.tokenize.WhitespaceTokenizer()\n",
    "lemmatizer = nltk.stem.WordNetLemmatizer()\n",
    "\n",
    "def lemma(text):\n",
    "    words = text.split() #separa las palabras cada vez que hay un espacio\n",
    "    return [wordnet_lemmatizer.lemmatize(word) for word in words] #le saca el lema de cada palabra\n",
    "\n",
    "df['pl_ti']= df['pl_ti'].apply(raiz)\n",
    "df['pl_ti']\n",
    "\n",
    "vect3 = TfidfVectorizer( min_df=4, stop_words=propias_stopwords, ngram_range=(1, 2), sublinear_tf='bool' )\n",
    "tf_transformer = vect3.fit(df['pl_ti'])\n",
    "dtm3 = vect3.fit_transform(df['pl_ti'])\n",
    "datatf3 = pd.DataFrame(vect3.fit_transform(df['pl_ti']).toarray(),  columns=vect3.get_feature_names())\n",
    "\n",
    "dtm_train3 = datatf3.iloc[:len(dataTraining),:]\n",
    "dtm_test3 = datatf3.iloc[len(dataTraining):,:]\n",
    "datatf3.head()\n",
    "datatf3.shape"
   ]
  },
  {
   "cell_type": "code",
   "execution_count": 168,
   "metadata": {
    "colab": {
     "base_uri": "https://localhost:8080/",
     "height": 55
    },
    "colab_type": "code",
    "executionInfo": {
     "elapsed": 65531,
     "status": "ok",
     "timestamp": 1595295121238,
     "user": {
      "displayName": "Angie Chacón",
      "photoUrl": "",
      "userId": "05104623104353886941"
     },
     "user_tz": 300
    },
    "id": "7tCducxrJdVd",
    "outputId": "ee566ede-d1f9-4001-841c-d8f34d8186d9"
   },
   "outputs": [
    {
     "name": "stdout",
     "output_type": "stream",
     "text": [
      "Lista de palabras concatenadas  ['abandon', 'abandon boy', 'abandon build', 'abandon famili', 'abandon father', 'abandon hous', 'abandon mother', 'abbey', 'abbi', 'abbott', 'abbott costello', 'abc', 'abdomen', 'abduct', 'abductor', 'abe', 'abel', 'abhor', 'abhorr', 'abid', 'abigail', 'abil', 'abil chang', 'abil see', 'abl', 'abl achiev', 'abl carri', 'abl control', 'abl convinc', 'abl eke', 'abl escap', 'abl find', 'abl fulfil', 'abl get', 'abl give', 'abl handl', 'abl infiltr', 'abl keep', 'abl live', 'abl make', 'abl pay', 'abl piec', 'abl provid', 'abl save', 'abl see', 'abl stay', 'abl stop', 'abl surviv', 'abl take', 'abl track', 'abl use', 'abner', 'aboard', 'aboard ship', 'abolish', 'abomin', 'abort', 'abound', 'abov', 'abov ground', 'abra', 'abraham', 'abraham lincoln', 'abram', 'abroad', 'abrupt', 'abscond', 'absenc', 'absent', 'absent father', 'absolut', 'absorb', 'abstract', 'absurd', 'abu', 'abus', 'abus boyfriend', 'abus father', 'abus humili', 'abus husband', 'abus mother', 'abyss', 'academ', 'academi', 'academi award', 'academia', 'acapulco', 'accel', 'accent', 'accept', 'accept assign', 'accept challeng', 'accept deal', 'accept first', 'accept help', 'accept invit', 'accept job', 'accept marriag', 'accept new', 'accept offer']\n"
     ]
    }
   ],
   "source": [
    "print('Lista de palabras concatenadas ', vect3.get_feature_names()[:100])"
   ]
  },
  {
   "cell_type": "markdown",
   "metadata": {
    "colab_type": "text",
    "id": "iXnHxTk4Xktd"
   },
   "source": [
    "#### **Concatenar  bases: *plot, title* y *year***"
   ]
  },
  {
   "cell_type": "code",
   "execution_count": 113,
   "metadata": {
    "colab": {
     "base_uri": "https://localhost:8080/"
    },
    "colab_type": "code",
    "executionInfo": {
     "elapsed": 65510,
     "status": "ok",
     "timestamp": 1595295121239,
     "user": {
      "displayName": "Angie Chacón",
      "photoUrl": "",
      "userId": "05104623104353886941"
     },
     "user_tz": 300
    },
    "id": "g2rURYLaX1Km",
    "outputId": "37a8d56b-5fe9-4ecb-e1f5-c7bc793fcdae"
   },
   "outputs": [
    {
     "name": "stdout",
     "output_type": "stream",
     "text": [
      "plott:  (7895, 27946) (7895, 6)\n",
      "plotk:  (3383, 27946) (3383, 3)\n",
      "titlet:  (7895, 1381) (7895, 6)\n",
      "titletk:  (3383, 1381) (3383, 3)\n",
      "pl_ti:  (7895, 28364) (7895, 6)\n",
      "pl_ti:  (3383, 28364) (3383, 3)\n"
     ]
    }
   ],
   "source": [
    "#Validar el tamaño de cada base\n",
    "print( 'plott: ', dtm_train.shape, dataTraining.shape)\n",
    "print( 'plotk: ', dtm_test.shape, datatest.shape)\n",
    "\n",
    "print( 'titlet: ',dtm_train2.shape, dataTraining.shape)\n",
    "print( 'titletk: ',dtm_test2.shape, datatest.shape)\n",
    "\n",
    "print( 'pl_ti: ',dtm_train3.shape, dataTraining.shape)\n",
    "print( 'pl_ti: ',dtm_test3.shape, datatest.shape)\n"
   ]
  },
  {
   "cell_type": "code",
   "execution_count": 114,
   "metadata": {
    "colab": {
     "base_uri": "https://localhost:8080/"
    },
    "colab_type": "code",
    "executionInfo": {
     "elapsed": 70449,
     "status": "ok",
     "timestamp": 1595295126198,
     "user": {
      "displayName": "Angie Chacón",
      "photoUrl": "",
      "userId": "05104623104353886941"
     },
     "user_tz": 300
    },
    "id": "wL4INtHwXm2K",
    "outputId": "dd2fb9aa-24af-4bb8-c142-a3717ae834a6"
   },
   "outputs": [
    {
     "data": {
      "text/html": [
       "<div>\n",
       "<style scoped>\n",
       "    .dataframe tbody tr th:only-of-type {\n",
       "        vertical-align: middle;\n",
       "    }\n",
       "\n",
       "    .dataframe tbody tr th {\n",
       "        vertical-align: top;\n",
       "    }\n",
       "\n",
       "    .dataframe thead th {\n",
       "        text-align: right;\n",
       "    }\n",
       "</style>\n",
       "<table border=\"1\" class=\"dataframe\">\n",
       "  <thead>\n",
       "    <tr style=\"text-align: right;\">\n",
       "      <th></th>\n",
       "      <th>abandon_res</th>\n",
       "      <th>abandon boy_res</th>\n",
       "      <th>abandon build_res</th>\n",
       "      <th>abandon famili_res</th>\n",
       "      <th>abandon father_res</th>\n",
       "      <th>abandon hous_res</th>\n",
       "      <th>abandon mother_res</th>\n",
       "      <th>abbey_res</th>\n",
       "      <th>abbi_res</th>\n",
       "      <th>abbott_res</th>\n",
       "      <th>...</th>\n",
       "      <th>yard_ti</th>\n",
       "      <th>year_ti</th>\n",
       "      <th>yellow_ti</th>\n",
       "      <th>yes_ti</th>\n",
       "      <th>york_ti</th>\n",
       "      <th>young_ti</th>\n",
       "      <th>zero_ti</th>\n",
       "      <th>zombi_ti</th>\n",
       "      <th>zone_ti</th>\n",
       "      <th>zorro_ti</th>\n",
       "    </tr>\n",
       "  </thead>\n",
       "  <tbody>\n",
       "    <tr>\n",
       "      <th>7890</th>\n",
       "      <td>0.0</td>\n",
       "      <td>0.0</td>\n",
       "      <td>0.0</td>\n",
       "      <td>0.0</td>\n",
       "      <td>0.0</td>\n",
       "      <td>0.0</td>\n",
       "      <td>0.0</td>\n",
       "      <td>0.0</td>\n",
       "      <td>0.0</td>\n",
       "      <td>0.0</td>\n",
       "      <td>...</td>\n",
       "      <td>0.0</td>\n",
       "      <td>0.0</td>\n",
       "      <td>0.0</td>\n",
       "      <td>0.0</td>\n",
       "      <td>0.0</td>\n",
       "      <td>0.0</td>\n",
       "      <td>0.0</td>\n",
       "      <td>0.0</td>\n",
       "      <td>0.0</td>\n",
       "      <td>0.0</td>\n",
       "    </tr>\n",
       "    <tr>\n",
       "      <th>7891</th>\n",
       "      <td>0.0</td>\n",
       "      <td>0.0</td>\n",
       "      <td>0.0</td>\n",
       "      <td>0.0</td>\n",
       "      <td>0.0</td>\n",
       "      <td>0.0</td>\n",
       "      <td>0.0</td>\n",
       "      <td>0.0</td>\n",
       "      <td>0.0</td>\n",
       "      <td>0.0</td>\n",
       "      <td>...</td>\n",
       "      <td>0.0</td>\n",
       "      <td>0.0</td>\n",
       "      <td>0.0</td>\n",
       "      <td>0.0</td>\n",
       "      <td>0.0</td>\n",
       "      <td>0.0</td>\n",
       "      <td>0.0</td>\n",
       "      <td>0.0</td>\n",
       "      <td>0.0</td>\n",
       "      <td>0.0</td>\n",
       "    </tr>\n",
       "    <tr>\n",
       "      <th>7892</th>\n",
       "      <td>0.0</td>\n",
       "      <td>0.0</td>\n",
       "      <td>0.0</td>\n",
       "      <td>0.0</td>\n",
       "      <td>0.0</td>\n",
       "      <td>0.0</td>\n",
       "      <td>0.0</td>\n",
       "      <td>0.0</td>\n",
       "      <td>0.0</td>\n",
       "      <td>0.0</td>\n",
       "      <td>...</td>\n",
       "      <td>0.0</td>\n",
       "      <td>0.0</td>\n",
       "      <td>0.0</td>\n",
       "      <td>0.0</td>\n",
       "      <td>0.0</td>\n",
       "      <td>0.0</td>\n",
       "      <td>0.0</td>\n",
       "      <td>0.0</td>\n",
       "      <td>0.0</td>\n",
       "      <td>0.0</td>\n",
       "    </tr>\n",
       "    <tr>\n",
       "      <th>7893</th>\n",
       "      <td>0.0</td>\n",
       "      <td>0.0</td>\n",
       "      <td>0.0</td>\n",
       "      <td>0.0</td>\n",
       "      <td>0.0</td>\n",
       "      <td>0.0</td>\n",
       "      <td>0.0</td>\n",
       "      <td>0.0</td>\n",
       "      <td>0.0</td>\n",
       "      <td>0.0</td>\n",
       "      <td>...</td>\n",
       "      <td>0.0</td>\n",
       "      <td>0.0</td>\n",
       "      <td>0.0</td>\n",
       "      <td>0.0</td>\n",
       "      <td>0.0</td>\n",
       "      <td>0.0</td>\n",
       "      <td>0.0</td>\n",
       "      <td>0.0</td>\n",
       "      <td>0.0</td>\n",
       "      <td>0.0</td>\n",
       "    </tr>\n",
       "    <tr>\n",
       "      <th>7894</th>\n",
       "      <td>0.0</td>\n",
       "      <td>0.0</td>\n",
       "      <td>0.0</td>\n",
       "      <td>0.0</td>\n",
       "      <td>0.0</td>\n",
       "      <td>0.0</td>\n",
       "      <td>0.0</td>\n",
       "      <td>0.0</td>\n",
       "      <td>0.0</td>\n",
       "      <td>0.0</td>\n",
       "      <td>...</td>\n",
       "      <td>0.0</td>\n",
       "      <td>0.0</td>\n",
       "      <td>0.0</td>\n",
       "      <td>0.0</td>\n",
       "      <td>0.0</td>\n",
       "      <td>0.0</td>\n",
       "      <td>0.0</td>\n",
       "      <td>0.0</td>\n",
       "      <td>0.0</td>\n",
       "      <td>0.0</td>\n",
       "    </tr>\n",
       "  </tbody>\n",
       "</table>\n",
       "<p>5 rows × 29327 columns</p>\n",
       "</div>"
      ],
      "text/plain": [
       "      abandon_res  abandon boy_res  abandon build_res  abandon famili_res  \\\n",
       "7890          0.0              0.0                0.0                 0.0   \n",
       "7891          0.0              0.0                0.0                 0.0   \n",
       "7892          0.0              0.0                0.0                 0.0   \n",
       "7893          0.0              0.0                0.0                 0.0   \n",
       "7894          0.0              0.0                0.0                 0.0   \n",
       "\n",
       "      abandon father_res  abandon hous_res  abandon mother_res  abbey_res  \\\n",
       "7890                 0.0               0.0                 0.0        0.0   \n",
       "7891                 0.0               0.0                 0.0        0.0   \n",
       "7892                 0.0               0.0                 0.0        0.0   \n",
       "7893                 0.0               0.0                 0.0        0.0   \n",
       "7894                 0.0               0.0                 0.0        0.0   \n",
       "\n",
       "      abbi_res  abbott_res  ...  yard_ti  year_ti  yellow_ti  yes_ti  york_ti  \\\n",
       "7890       0.0         0.0  ...      0.0      0.0        0.0     0.0      0.0   \n",
       "7891       0.0         0.0  ...      0.0      0.0        0.0     0.0      0.0   \n",
       "7892       0.0         0.0  ...      0.0      0.0        0.0     0.0      0.0   \n",
       "7893       0.0         0.0  ...      0.0      0.0        0.0     0.0      0.0   \n",
       "7894       0.0         0.0  ...      0.0      0.0        0.0     0.0      0.0   \n",
       "\n",
       "      young_ti  zero_ti  zombi_ti  zone_ti  zorro_ti  \n",
       "7890       0.0      0.0       0.0      0.0       0.0  \n",
       "7891       0.0      0.0       0.0      0.0       0.0  \n",
       "7892       0.0      0.0       0.0      0.0       0.0  \n",
       "7893       0.0      0.0       0.0      0.0       0.0  \n",
       "7894       0.0      0.0       0.0      0.0       0.0  \n",
       "\n",
       "[5 rows x 29327 columns]"
      ]
     },
     "execution_count": 114,
     "metadata": {},
     "output_type": "execute_result"
    }
   ],
   "source": [
    "#Concatenar las variables de plot y title de forma independiente en una sola base\n",
    "\n",
    "dff= pd.concat([dtm_train, dtm_train2], axis=1, sort=False)\n",
    "dff.tail()"
   ]
  },
  {
   "cell_type": "code",
   "execution_count": 115,
   "metadata": {
    "colab": {
     "base_uri": "https://localhost:8080/"
    },
    "colab_type": "code",
    "executionInfo": {
     "elapsed": 70430,
     "status": "ok",
     "timestamp": 1595295126199,
     "user": {
      "displayName": "Angie Chacón",
      "photoUrl": "",
      "userId": "05104623104353886941"
     },
     "user_tz": 300
    },
    "id": "7yUrX7JiY2wt",
    "outputId": "81fd8942-7cec-4d1a-d68c-e8c8368d1ec1"
   },
   "outputs": [
    {
     "name": "stdout",
     "output_type": "stream",
     "text": [
      "(7895, 29327)\n"
     ]
    }
   ],
   "source": [
    "print(dff.shape)"
   ]
  },
  {
   "cell_type": "markdown",
   "metadata": {
    "colab_type": "text",
    "id": "tDoFAUdNU8tT"
   },
   "source": [
    "### **Transformación de la variable genres (género) en clases**"
   ]
  },
  {
   "cell_type": "code",
   "execution_count": 116,
   "metadata": {
    "colab": {
     "base_uri": "https://localhost:8080/"
    },
    "colab_type": "code",
    "executionInfo": {
     "elapsed": 70416,
     "status": "ok",
     "timestamp": 1595295126202,
     "user": {
      "displayName": "Angie Chacón",
      "photoUrl": "",
      "userId": "05104623104353886941"
     },
     "user_tz": 300
    },
    "id": "xKw-Tuwh76Gn",
    "outputId": "b36b5393-cb51-408f-e68d-b40db3d25a12"
   },
   "outputs": [
    {
     "data": {
      "text/plain": [
       "(7895, 24)"
      ]
     },
     "execution_count": 116,
     "metadata": {},
     "output_type": "execute_result"
    }
   ],
   "source": [
    "dataTraining['genres'] = dataTraining['genres'].map(lambda x: eval(x))\n",
    "le = MultiLabelBinarizer()\n",
    "y = le.fit_transform(dataTraining['genres'])\n",
    "y.shape"
   ]
  },
  {
   "cell_type": "code",
   "execution_count": 117,
   "metadata": {
    "colab": {
     "base_uri": "https://localhost:8080/"
    },
    "colab_type": "code",
    "executionInfo": {
     "elapsed": 70399,
     "status": "ok",
     "timestamp": 1595295126204,
     "user": {
      "displayName": "Angie Chacón",
      "photoUrl": "",
      "userId": "05104623104353886941"
     },
     "user_tz": 300
    },
    "id": "Epcf8VWJsCCP",
    "outputId": "00055418-d1cc-42f2-96de-f409aae6078b"
   },
   "outputs": [
    {
     "name": "stdout",
     "output_type": "stream",
     "text": [
      "(7895, 24)\n",
      "(7895, 29327)\n"
     ]
    }
   ],
   "source": [
    "print(y.shape)\n",
    "print(dff.shape)"
   ]
  },
  {
   "cell_type": "markdown",
   "metadata": {
    "colab_type": "text",
    "id": "mIVpgpkTU3o7"
   },
   "source": [
    "### **Dividir dataset \"dataTraining\" en entrenamiento y validación\"\n",
    "Crear base de entrenamiento 80% train y 20% validación (test)"
   ]
  },
  {
   "cell_type": "code",
   "execution_count": 118,
   "metadata": {
    "colab": {
     "base_uri": "https://localhost:8080/"
    },
    "colab_type": "code",
    "executionInfo": {
     "elapsed": 72996,
     "status": "ok",
     "timestamp": 1595295128819,
     "user": {
      "displayName": "Angie Chacón",
      "photoUrl": "",
      "userId": "05104623104353886941"
     },
     "user_tz": 300
    },
    "id": "caaxWEdL3_kE",
    "outputId": "30c0a475-7f59-475e-f77a-f2192478077c"
   },
   "outputs": [
    {
     "name": "stdout",
     "output_type": "stream",
     "text": [
      "(6316, 29327) (6316, 24)\n",
      "(1579, 29327) (1579, 24)\n"
     ]
    }
   ],
   "source": [
    "#Base con las 2 variables \n",
    "X_train, X_test, y_train, y_test = train_test_split(dff, y, test_size=0.2, random_state=42)\n",
    "print(X_train.shape,y_train.shape)\n",
    "print(X_test.shape,y_test.shape)"
   ]
  },
  {
   "cell_type": "code",
   "execution_count": 120,
   "metadata": {
    "colab": {
     "base_uri": "https://localhost:8080/"
    },
    "colab_type": "code",
    "executionInfo": {
     "elapsed": 73567,
     "status": "ok",
     "timestamp": 1595295129407,
     "user": {
      "displayName": "Angie Chacón",
      "photoUrl": "",
      "userId": "05104623104353886941"
     },
     "user_tz": 300
    },
    "id": "xdwbBmBjqar6",
    "outputId": "3ead00b2-3202-4e5f-c3da-9bb72a7fd58a"
   },
   "outputs": [
    {
     "name": "stdout",
     "output_type": "stream",
     "text": [
      "(6316, 28364) (6316, 24)\n",
      "(1579, 28364) (1579, 24)\n"
     ]
    }
   ],
   "source": [
    "#Base únicamente con plot y train concatenado\n",
    "X_train3, X_test3, y_train3, y_test3 = train_test_split(dtm_train3, y, test_size=0.2, random_state=42)\n",
    "print(X_train3.shape,y_train3.shape)\n",
    "print(X_test3.shape,y_test3.shape)"
   ]
  },
  {
   "cell_type": "markdown",
   "metadata": {
    "colab_type": "text",
    "id": "Vhfld0xQVAEJ"
   },
   "source": [
    "### **Entrenar modelo con 80% train y 20% test con plot y title concatenados**\n",
    "Al entrenar el modelo con 80% train y 20% test, se obtiene un AUC (Ärea bajo la curva)  de 0,904. Usando como input la variable plot y title de forma independiente\n",
    "\n"
   ]
  },
  {
   "cell_type": "code",
   "execution_count": 123,
   "metadata": {
    "colab": {},
    "colab_type": "code",
    "id": "_vjMY2JV8chZ"
   },
   "outputs": [],
   "source": [
    "#Librerías para crear modelos de regresión logística \n",
    "\n",
    "from sklearn.multiclass import OneVsRestClassifier\n",
    "from sklearn.linear_model import LogisticRegression\n",
    "\n",
    "\n",
    "#regresion logistica\n",
    "clf = OneVsRestClassifier(LogisticRegression(solver = 'lbfgs')) \n"
   ]
  },
  {
   "cell_type": "code",
   "execution_count": 151,
   "metadata": {},
   "outputs": [],
   "source": [
    "#Entrenamiento del modelo Random Forest Classifier\n",
    "from sklearn.ensemble import RandomForestRegressor\n",
    "\n",
    "clfR=OneVsRestClassifier(RandomForestClassifier(n_jobs=-1, n_estimators=200, max_depth=30, random_state=42,oob_score=True))"
   ]
  },
  {
   "cell_type": "markdown",
   "metadata": {
    "colab_type": "text",
    "id": "hz6Hb1Qmnjrc"
   },
   "source": [
    "### **Predicciones y métricas de los modelos con la base completa, con las variables plot y title concatenadas** \n",
    "\n",
    "\n"
   ]
  },
  {
   "cell_type": "code",
   "execution_count": 134,
   "metadata": {
    "colab": {
     "base_uri": "https://localhost:8080/",
     "height": 195
    },
    "colab_type": "code",
    "executionInfo": {
     "elapsed": 380791,
     "status": "ok",
     "timestamp": 1595295436702,
     "user": {
      "displayName": "Angie Chacón",
      "photoUrl": "",
      "userId": "05104623104353886941"
     },
     "user_tz": 300
    },
    "id": "d0Ck0dJun3ez",
    "outputId": "80091eef-8e13-47bd-f410-94555d0454f6"
   },
   "outputs": [
    {
     "data": {
      "text/plain": [
       "OneVsRestClassifier(estimator=LogisticRegression())"
      ]
     },
     "execution_count": 134,
     "metadata": {},
     "output_type": "execute_result"
    }
   ],
   "source": [
    "#Modelo logisti Regression\n",
    "from sklearn import metrics\n",
    "\n",
    "clf.fit(dtm_train3, y) \n"
   ]
  },
  {
   "cell_type": "code",
   "execution_count": 171,
   "metadata": {
    "colab": {
     "base_uri": "https://localhost:8080/",
     "height": 35
    },
    "colab_type": "code",
    "executionInfo": {
     "elapsed": 9184,
     "status": "ok",
     "timestamp": 1595295467195,
     "user": {
      "displayName": "Angie Chacón",
      "photoUrl": "",
      "userId": "05104623104353886941"
     },
     "user_tz": 300
    },
    "id": "e6Dy2X7tn3nB",
    "outputId": "005d2ee7-b527-4f59-f426-952b8ecabc2f"
   },
   "outputs": [
    {
     "data": {
      "text/plain": [
       "0.986943207391064"
      ]
     },
     "execution_count": 171,
     "metadata": {},
     "output_type": "execute_result"
    }
   ],
   "source": [
    "#Predicciones y Área bajo la curva del modelo logístico\n",
    "\n",
    "from sklearn.metrics import r2_score, roc_auc_score\n",
    "\n",
    "y_pred = clf.predict_proba(X_test3)\n",
    "roc_auc_score(y_true = y_test3, y_score = y_pred, average='macro')\n",
    "\n",
    "#Al subir en la competencia de Kaggle arroja un AUC de 0.90332"
   ]
  },
  {
   "cell_type": "code",
   "execution_count": 152,
   "metadata": {},
   "outputs": [
    {
     "data": {
      "text/plain": [
       "OneVsRestClassifier(estimator=RandomForestClassifier(max_depth=30,\n",
       "                                                     n_estimators=200,\n",
       "                                                     n_jobs=-1, oob_score=True,\n",
       "                                                     random_state=42))"
      ]
     },
     "execution_count": 152,
     "metadata": {},
     "output_type": "execute_result"
    }
   ],
   "source": [
    "#Entrenamiento del Modelo Random forest\n",
    "from sklearn import metrics\n",
    "\n",
    "clfR.fit(dtm_train3, y)\n"
   ]
  },
  {
   "cell_type": "code",
   "execution_count": 153,
   "metadata": {},
   "outputs": [
    {
     "data": {
      "text/plain": [
       "0.9979156457453741"
      ]
     },
     "execution_count": 153,
     "metadata": {},
     "output_type": "execute_result"
    }
   ],
   "source": [
    "#Predicciones y métricas en modelo RandomForest\n",
    "\n",
    "y_predR = clfR.predict_proba(X_test3)\n",
    "roc_auc_score(y_true = y_test3, y_score = y_predR, average='macro')\n",
    "\n",
    "#Al cargar en Kaggle  arroja un AUC de 0.85407, inferior al modelo logístico"
   ]
  },
  {
   "cell_type": "markdown",
   "metadata": {},
   "source": [
    "## STACKING\n",
    "\n",
    "#### Realizaremos un stacking de los modelos logístico y Randomforest"
   ]
  },
  {
   "cell_type": "code",
   "execution_count": 155,
   "metadata": {},
   "outputs": [],
   "source": [
    "# Importar librería para stacking\n",
    "from sklearn.ensemble import VotingClassifier\n"
   ]
  },
  {
   "cell_type": "code",
   "execution_count": 156,
   "metadata": {},
   "outputs": [],
   "source": [
    "#stacking, se realizará por ponderación de acuerdo con el desempeño de cada modelo\n",
    "stack=(y_pred*0.8)+(y_predR*0.2)"
   ]
  },
  {
   "cell_type": "code",
   "execution_count": 157,
   "metadata": {},
   "outputs": [
    {
     "data": {
      "text/plain": [
       "array([[0.11700496, 0.09801267, 0.02405725, ..., 0.17929628, 0.02687212,\n",
       "        0.01992572],\n",
       "       [0.08208316, 0.05228463, 0.0217083 , ..., 0.40371286, 0.02137501,\n",
       "        0.0164672 ],\n",
       "       [0.05343902, 0.06518752, 0.02195267, ..., 0.41004102, 0.02262183,\n",
       "        0.01838742],\n",
       "       ...,\n",
       "       [0.09822157, 0.16557953, 0.04305729, ..., 0.14756052, 0.02898514,\n",
       "        0.02339216],\n",
       "       [0.07770628, 0.24921882, 0.12370311, ..., 0.19298701, 0.03002321,\n",
       "        0.01833024],\n",
       "       [0.10983045, 0.43008385, 0.16509341, ..., 0.09432584, 0.03204518,\n",
       "        0.03759555]])"
      ]
     },
     "execution_count": 157,
     "metadata": {},
     "output_type": "execute_result"
    }
   ],
   "source": [
    "stack #revisar el contenido del objeto"
   ]
  },
  {
   "cell_type": "code",
   "execution_count": 158,
   "metadata": {},
   "outputs": [
    {
     "data": {
      "text/plain": [
       "0.9909676450560166"
      ]
     },
     "execution_count": 158,
     "metadata": {},
     "output_type": "execute_result"
    }
   ],
   "source": [
    "roc_auc_score(y_true = y, y_score = stack, average='macro')"
   ]
  },
  {
   "cell_type": "markdown",
   "metadata": {
    "colab_type": "text",
    "id": "5UHKuhKi0XgT"
   },
   "source": [
    "### **Predicciones en data set dataTesting**\n",
    "\n",
    "Correr modelos de regresiones logística y RandomForest en la base completa, con el cual se obtiene un resultado de 0,9978 en el promedio del AUC."
   ]
  },
  {
   "cell_type": "code",
   "execution_count": 172,
   "metadata": {
    "colab": {},
    "colab_type": "code",
    "id": "K6Y1k6myAEwy"
   },
   "outputs": [],
   "source": [
    "cols = ['p_Action', 'p_Adventure', 'p_Animation', 'p_Biography', 'p_Comedy', 'p_Crime', 'p_Documentary', 'p_Drama', 'p_Family',\n",
    "        'p_Fantasy', 'p_Film-Noir', 'p_History', 'p_Horror', 'p_Music', 'p_Musical', 'p_Mystery', 'p_News', 'p_Romance',\n",
    "        'p_Sci-Fi', 'p_Short', 'p_Sport', 'p_Thriller', 'p_War', 'p_Western']\n",
    "\n",
    "y_pred_test_genres =clf.predict_proba(dtm_test3)\n",
    "\n",
    "#y_pred_test_genresR =clfR.predict_proba(dtm_test3)"
   ]
  },
  {
   "cell_type": "code",
   "execution_count": 173,
   "metadata": {
    "colab": {},
    "colab_type": "code",
    "id": "FEGKKqZAAbjc"
   },
   "outputs": [],
   "source": [
    "res = pd.DataFrame((y_pred_test_genres), index=datatest.index, columns=cols)\n",
    "\n",
    "#res = pd.DataFrame((0.8*y_pred_test_genres)+(0.2*y_pred_test_genresR), index=datatest.index, columns=cols)"
   ]
  },
  {
   "cell_type": "code",
   "execution_count": 162,
   "metadata": {
    "colab": {
     "base_uri": "https://localhost:8080/",
     "height": 237
    },
    "colab_type": "code",
    "executionInfo": {
     "elapsed": 3187,
     "status": "ok",
     "timestamp": 1595291594333,
     "user": {
      "displayName": "Angie Chacón",
      "photoUrl": "",
      "userId": "05104623104353886941"
     },
     "user_tz": 300
    },
    "id": "v30acFYuAeGp",
    "outputId": "e38f3ab4-ca2d-40c1-80b9-33c2a39613ca"
   },
   "outputs": [
    {
     "data": {
      "text/html": [
       "<div>\n",
       "<style scoped>\n",
       "    .dataframe tbody tr th:only-of-type {\n",
       "        vertical-align: middle;\n",
       "    }\n",
       "\n",
       "    .dataframe tbody tr th {\n",
       "        vertical-align: top;\n",
       "    }\n",
       "\n",
       "    .dataframe thead th {\n",
       "        text-align: right;\n",
       "    }\n",
       "</style>\n",
       "<table border=\"1\" class=\"dataframe\">\n",
       "  <thead>\n",
       "    <tr style=\"text-align: right;\">\n",
       "      <th></th>\n",
       "      <th>p_Action</th>\n",
       "      <th>p_Adventure</th>\n",
       "      <th>p_Animation</th>\n",
       "      <th>p_Biography</th>\n",
       "      <th>p_Comedy</th>\n",
       "      <th>p_Crime</th>\n",
       "      <th>p_Documentary</th>\n",
       "      <th>p_Drama</th>\n",
       "      <th>p_Family</th>\n",
       "      <th>p_Fantasy</th>\n",
       "      <th>...</th>\n",
       "      <th>p_Musical</th>\n",
       "      <th>p_Mystery</th>\n",
       "      <th>p_News</th>\n",
       "      <th>p_Romance</th>\n",
       "      <th>p_Sci-Fi</th>\n",
       "      <th>p_Short</th>\n",
       "      <th>p_Sport</th>\n",
       "      <th>p_Thriller</th>\n",
       "      <th>p_War</th>\n",
       "      <th>p_Western</th>\n",
       "    </tr>\n",
       "  </thead>\n",
       "  <tbody>\n",
       "    <tr>\n",
       "      <th>1</th>\n",
       "      <td>0.103182</td>\n",
       "      <td>0.094940</td>\n",
       "      <td>0.026240</td>\n",
       "      <td>0.028024</td>\n",
       "      <td>0.345382</td>\n",
       "      <td>0.129558</td>\n",
       "      <td>0.028595</td>\n",
       "      <td>0.589678</td>\n",
       "      <td>0.057647</td>\n",
       "      <td>0.087261</td>\n",
       "      <td>...</td>\n",
       "      <td>0.029393</td>\n",
       "      <td>0.101850</td>\n",
       "      <td>0.000687</td>\n",
       "      <td>0.424718</td>\n",
       "      <td>0.052820</td>\n",
       "      <td>0.018537</td>\n",
       "      <td>0.021521</td>\n",
       "      <td>0.182143</td>\n",
       "      <td>0.021471</td>\n",
       "      <td>0.023553</td>\n",
       "    </tr>\n",
       "    <tr>\n",
       "      <th>4</th>\n",
       "      <td>0.130899</td>\n",
       "      <td>0.047418</td>\n",
       "      <td>0.026007</td>\n",
       "      <td>0.144918</td>\n",
       "      <td>0.259407</td>\n",
       "      <td>0.254698</td>\n",
       "      <td>0.062974</td>\n",
       "      <td>0.734120</td>\n",
       "      <td>0.046714</td>\n",
       "      <td>0.036939</td>\n",
       "      <td>...</td>\n",
       "      <td>0.028507</td>\n",
       "      <td>0.046171</td>\n",
       "      <td>0.006798</td>\n",
       "      <td>0.094613</td>\n",
       "      <td>0.030037</td>\n",
       "      <td>0.010805</td>\n",
       "      <td>0.031058</td>\n",
       "      <td>0.247452</td>\n",
       "      <td>0.049415</td>\n",
       "      <td>0.021194</td>\n",
       "    </tr>\n",
       "    <tr>\n",
       "      <th>5</th>\n",
       "      <td>0.080178</td>\n",
       "      <td>0.038497</td>\n",
       "      <td>0.013936</td>\n",
       "      <td>0.050263</td>\n",
       "      <td>0.126872</td>\n",
       "      <td>0.547498</td>\n",
       "      <td>0.026605</td>\n",
       "      <td>0.777160</td>\n",
       "      <td>0.029592</td>\n",
       "      <td>0.040444</td>\n",
       "      <td>...</td>\n",
       "      <td>0.017868</td>\n",
       "      <td>0.312421</td>\n",
       "      <td>0.000710</td>\n",
       "      <td>0.181922</td>\n",
       "      <td>0.042420</td>\n",
       "      <td>0.007301</td>\n",
       "      <td>0.026159</td>\n",
       "      <td>0.518599</td>\n",
       "      <td>0.034090</td>\n",
       "      <td>0.016666</td>\n",
       "    </tr>\n",
       "    <tr>\n",
       "      <th>6</th>\n",
       "      <td>0.123272</td>\n",
       "      <td>0.092607</td>\n",
       "      <td>0.022716</td>\n",
       "      <td>0.046199</td>\n",
       "      <td>0.185175</td>\n",
       "      <td>0.099109</td>\n",
       "      <td>0.028169</td>\n",
       "      <td>0.686064</td>\n",
       "      <td>0.053400</td>\n",
       "      <td>0.050159</td>\n",
       "      <td>...</td>\n",
       "      <td>0.029640</td>\n",
       "      <td>0.084925</td>\n",
       "      <td>0.000713</td>\n",
       "      <td>0.219550</td>\n",
       "      <td>0.094690</td>\n",
       "      <td>0.007939</td>\n",
       "      <td>0.025449</td>\n",
       "      <td>0.322597</td>\n",
       "      <td>0.064099</td>\n",
       "      <td>0.022611</td>\n",
       "    </tr>\n",
       "    <tr>\n",
       "      <th>7</th>\n",
       "      <td>0.080590</td>\n",
       "      <td>0.085156</td>\n",
       "      <td>0.035136</td>\n",
       "      <td>0.031616</td>\n",
       "      <td>0.244133</td>\n",
       "      <td>0.104814</td>\n",
       "      <td>0.038413</td>\n",
       "      <td>0.276935</td>\n",
       "      <td>0.064065</td>\n",
       "      <td>0.113125</td>\n",
       "      <td>...</td>\n",
       "      <td>0.027588</td>\n",
       "      <td>0.097836</td>\n",
       "      <td>0.000695</td>\n",
       "      <td>0.117618</td>\n",
       "      <td>0.397829</td>\n",
       "      <td>0.010303</td>\n",
       "      <td>0.016594</td>\n",
       "      <td>0.281373</td>\n",
       "      <td>0.017628</td>\n",
       "      <td>0.018340</td>\n",
       "    </tr>\n",
       "  </tbody>\n",
       "</table>\n",
       "<p>5 rows × 24 columns</p>\n",
       "</div>"
      ],
      "text/plain": [
       "   p_Action  p_Adventure  p_Animation  p_Biography  p_Comedy   p_Crime  \\\n",
       "1  0.103182     0.094940     0.026240     0.028024  0.345382  0.129558   \n",
       "4  0.130899     0.047418     0.026007     0.144918  0.259407  0.254698   \n",
       "5  0.080178     0.038497     0.013936     0.050263  0.126872  0.547498   \n",
       "6  0.123272     0.092607     0.022716     0.046199  0.185175  0.099109   \n",
       "7  0.080590     0.085156     0.035136     0.031616  0.244133  0.104814   \n",
       "\n",
       "   p_Documentary   p_Drama  p_Family  p_Fantasy  ...  p_Musical  p_Mystery  \\\n",
       "1       0.028595  0.589678  0.057647   0.087261  ...   0.029393   0.101850   \n",
       "4       0.062974  0.734120  0.046714   0.036939  ...   0.028507   0.046171   \n",
       "5       0.026605  0.777160  0.029592   0.040444  ...   0.017868   0.312421   \n",
       "6       0.028169  0.686064  0.053400   0.050159  ...   0.029640   0.084925   \n",
       "7       0.038413  0.276935  0.064065   0.113125  ...   0.027588   0.097836   \n",
       "\n",
       "     p_News  p_Romance  p_Sci-Fi   p_Short   p_Sport  p_Thriller     p_War  \\\n",
       "1  0.000687   0.424718  0.052820  0.018537  0.021521    0.182143  0.021471   \n",
       "4  0.006798   0.094613  0.030037  0.010805  0.031058    0.247452  0.049415   \n",
       "5  0.000710   0.181922  0.042420  0.007301  0.026159    0.518599  0.034090   \n",
       "6  0.000713   0.219550  0.094690  0.007939  0.025449    0.322597  0.064099   \n",
       "7  0.000695   0.117618  0.397829  0.010303  0.016594    0.281373  0.017628   \n",
       "\n",
       "   p_Western  \n",
       "1   0.023553  \n",
       "4   0.021194  \n",
       "5   0.016666  \n",
       "6   0.022611  \n",
       "7   0.018340  \n",
       "\n",
       "[5 rows x 24 columns]"
      ]
     },
     "execution_count": 162,
     "metadata": {},
     "output_type": "execute_result"
    }
   ],
   "source": [
    "res.head()"
   ]
  },
  {
   "cell_type": "code",
   "execution_count": 174,
   "metadata": {
    "colab": {
     "base_uri": "https://localhost:8080/",
     "height": 17
    },
    "colab_type": "code",
    "executionInfo": {
     "elapsed": 1829,
     "status": "ok",
     "timestamp": 1595291594640,
     "user": {
      "displayName": "Angie Chacón",
      "photoUrl": "",
      "userId": "05104623104353886941"
     },
     "user_tz": 300
    },
    "id": "sjpe8hidAh5d",
    "outputId": "22336194-20b6-4df4-e600-52642cbd844f"
   },
   "outputs": [],
   "source": [
    "res.to_csv('Grupo2_logit2.csv', index_label='ID')\n"
   ]
  },
  {
   "cell_type": "markdown",
   "metadata": {
    "colab": {},
    "colab_type": "code",
    "id": "hoe4trWyQ-0i"
   },
   "source": [
    "### Conclusiones\n",
    "\n",
    "1. Despúes de realizar el ejercicio completo, observamos que el pre-procesamiento de los datos es fundamental para el buen desempeños de los modelos, de manera tal que al limpiar los datos con la función de \"stopwords\" los modelos mejoraron significativamente. Adicionalmente, al incuir las dos variables predictoras (title + plot) se incrementaron las métricas de desempeño.\n",
    "\n",
    "2. Se realizaron varios modelos: Logístico, LSTM, XGBoost y Randomforest.  Donde el mejor desempeño del AUC en test de la dataTraining correspondió al modelo Logístico (0.9871041705827245) y Randomforest (0.9979156457453741); sin embargo, al subirlo el archivo de test a Kaggle, el que mejor predicción produjo fue el modelo logístico con 0.90332\n",
    "\n",
    "3. Finalmente, realizamos un stacking con el modelo logistic y Randomforest; sin embargo, el resultado no superó al modelo logístico."
   ]
  }
 ],
 "metadata": {
  "accelerator": "GPU",
  "colab": {
   "collapsed_sections": [
    "jSNIe5-nzRYe",
    "7GyHGUbm0xF_",
    "6vw1zfBaCtlg",
    "rIRapis_bsPk",
    "iXnHxTk4Xktd",
    "tDoFAUdNU8tT",
    "mIVpgpkTU3o7",
    "Vhfld0xQVAEJ",
    "hz6Hb1Qmnjrc",
    "5UHKuhKi0XgT"
   ],
   "machine_shape": "hm",
   "name": "Modelo seleccionado Regresiones Logísticas.ipynb",
   "provenance": [
    {
     "file_id": "1tvb8F-Z4bNFlgcuzA5ALDHJcrM12qAJ1",
     "timestamp": 1595091572424
    },
    {
     "file_id": "1mASwkDcIgTKl3vfQCYYtk7pOa-hx2uf_",
     "timestamp": 1595025409542
    }
   ]
  },
  "kernelspec": {
   "display_name": "Python 3",
   "language": "python",
   "name": "python3"
  },
  "language_info": {
   "codemirror_mode": {
    "name": "ipython",
    "version": 3
   },
   "file_extension": ".py",
   "mimetype": "text/x-python",
   "name": "python",
   "nbconvert_exporter": "python",
   "pygments_lexer": "ipython3",
   "version": "3.8.8"
  }
 },
 "nbformat": 4,
 "nbformat_minor": 1
}
