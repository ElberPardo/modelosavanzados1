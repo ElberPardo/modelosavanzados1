{
 "cells": [
  {
   "cell_type": "markdown",
   "metadata": {},
   "source": [
    "## GRUPO 2: ##\n",
    "Marta Pizarro       202027959\n",
    "\n",
    "Diego Quevedo       200914623\n",
    "\n",
    "Alfredo Hincapié    199817792\n",
    "\n",
    "Guillermo Andrade   202027949\n",
    "\n",
    "Elber Pardo         200017815"
   ]
  },
  {
   "cell_type": "markdown",
   "metadata": {},
   "source": [
    "# Exercise 8\n",
    "\n",
    "The result will be evaluated from a report in Jupyter, which must be found in a public GitHub repository. The project must be carried out in the groups assigned in class. Use clear and rigorous procedures. Due date: July 18, 2021, 11:59 pm, through Bloque Neón + (Upload repository link)\n",
    "\n",
    "## Car Price Prediction\n",
    "\n",
    "Predict if the price of a car is low or high"
   ]
  },
  {
   "cell_type": "code",
   "execution_count": 3,
   "metadata": {},
   "outputs": [
    {
     "data": {
      "text/html": [
       "<div>\n",
       "<style scoped>\n",
       "    .dataframe tbody tr th:only-of-type {\n",
       "        vertical-align: middle;\n",
       "    }\n",
       "\n",
       "    .dataframe tbody tr th {\n",
       "        vertical-align: top;\n",
       "    }\n",
       "\n",
       "    .dataframe thead th {\n",
       "        text-align: right;\n",
       "    }\n",
       "</style>\n",
       "<table border=\"1\" class=\"dataframe\">\n",
       "  <thead>\n",
       "    <tr style=\"text-align: right;\">\n",
       "      <th></th>\n",
       "      <th>Year</th>\n",
       "      <th>Mileage</th>\n",
       "      <th>M_Camry</th>\n",
       "      <th>M_Camry4dr</th>\n",
       "      <th>M_CamryBase</th>\n",
       "      <th>M_CamryL</th>\n",
       "      <th>M_CamryLE</th>\n",
       "      <th>M_CamrySE</th>\n",
       "      <th>M_CamryXLE</th>\n",
       "      <th>HighPrice</th>\n",
       "    </tr>\n",
       "  </thead>\n",
       "  <tbody>\n",
       "    <tr>\n",
       "      <th>15</th>\n",
       "      <td>2016</td>\n",
       "      <td>29242</td>\n",
       "      <td>0</td>\n",
       "      <td>0</td>\n",
       "      <td>0</td>\n",
       "      <td>0</td>\n",
       "      <td>1</td>\n",
       "      <td>0</td>\n",
       "      <td>0</td>\n",
       "      <td>1</td>\n",
       "    </tr>\n",
       "    <tr>\n",
       "      <th>47</th>\n",
       "      <td>2015</td>\n",
       "      <td>26465</td>\n",
       "      <td>0</td>\n",
       "      <td>0</td>\n",
       "      <td>0</td>\n",
       "      <td>0</td>\n",
       "      <td>1</td>\n",
       "      <td>0</td>\n",
       "      <td>0</td>\n",
       "      <td>1</td>\n",
       "    </tr>\n",
       "    <tr>\n",
       "      <th>85</th>\n",
       "      <td>2012</td>\n",
       "      <td>46739</td>\n",
       "      <td>0</td>\n",
       "      <td>1</td>\n",
       "      <td>0</td>\n",
       "      <td>0</td>\n",
       "      <td>0</td>\n",
       "      <td>0</td>\n",
       "      <td>0</td>\n",
       "      <td>1</td>\n",
       "    </tr>\n",
       "    <tr>\n",
       "      <th>141</th>\n",
       "      <td>2017</td>\n",
       "      <td>41722</td>\n",
       "      <td>0</td>\n",
       "      <td>0</td>\n",
       "      <td>0</td>\n",
       "      <td>0</td>\n",
       "      <td>0</td>\n",
       "      <td>1</td>\n",
       "      <td>0</td>\n",
       "      <td>1</td>\n",
       "    </tr>\n",
       "    <tr>\n",
       "      <th>226</th>\n",
       "      <td>2014</td>\n",
       "      <td>77669</td>\n",
       "      <td>0</td>\n",
       "      <td>0</td>\n",
       "      <td>0</td>\n",
       "      <td>0</td>\n",
       "      <td>0</td>\n",
       "      <td>0</td>\n",
       "      <td>1</td>\n",
       "      <td>0</td>\n",
       "    </tr>\n",
       "  </tbody>\n",
       "</table>\n",
       "</div>"
      ],
      "text/plain": [
       "     Year  Mileage  M_Camry  M_Camry4dr  M_CamryBase  M_CamryL  M_CamryLE  \\\n",
       "15   2016    29242        0           0            0         0          1   \n",
       "47   2015    26465        0           0            0         0          1   \n",
       "85   2012    46739        0           1            0         0          0   \n",
       "141  2017    41722        0           0            0         0          0   \n",
       "226  2014    77669        0           0            0         0          0   \n",
       "\n",
       "     M_CamrySE  M_CamryXLE  HighPrice  \n",
       "15           0           0          1  \n",
       "47           0           0          1  \n",
       "85           0           0          1  \n",
       "141          1           0          1  \n",
       "226          0           1          0  "
      ]
     },
     "execution_count": 3,
     "metadata": {},
     "output_type": "execute_result"
    }
   ],
   "source": [
    "%matplotlib inline\n",
    "import pandas as pd\n",
    "import numpy as np\n",
    "\n",
    "data = pd.read_csv('../datasets/dataTrain_carListings.zip')\n",
    "data = data.loc[data['Model'].str.contains('Camry')].drop(['Make', 'State'], axis=1)\n",
    "data = data.join(pd.get_dummies(data['Model'], prefix='M'))\n",
    "data['HighPrice'] = (data['Price'] > data['Price'].mean()).astype(int)\n",
    "data = data.drop(['Model', 'Price'], axis=1)\n",
    "\n",
    "data.head()"
   ]
  },
  {
   "cell_type": "code",
   "execution_count": 4,
   "metadata": {},
   "outputs": [
    {
     "data": {
      "text/plain": [
       "(13150, 10)"
      ]
     },
     "execution_count": 4,
     "metadata": {},
     "output_type": "execute_result"
    }
   ],
   "source": [
    "data.shape"
   ]
  },
  {
   "cell_type": "code",
   "execution_count": 5,
   "metadata": {},
   "outputs": [
    {
     "data": {
      "text/plain": [
       "7621"
      ]
     },
     "execution_count": 5,
     "metadata": {},
     "output_type": "execute_result"
    }
   ],
   "source": [
    "np.count_nonzero(data['HighPrice'])"
   ]
  },
  {
   "cell_type": "code",
   "execution_count": 6,
   "metadata": {},
   "outputs": [],
   "source": [
    "y = data['HighPrice']\n",
    "X = data.drop(['HighPrice'], axis=1)"
   ]
  },
  {
   "cell_type": "code",
   "execution_count": 7,
   "metadata": {},
   "outputs": [],
   "source": [
    "from sklearn.model_selection import train_test_split\n",
    "X_train, X_test, y_train, y_test = train_test_split(X, y, test_size=0.33, random_state=42)"
   ]
  },
  {
   "cell_type": "markdown",
   "metadata": {},
   "source": [
    "# Exercise 8.1\n",
    "\n",
    "Estimate a Decision Tree Classifier Manually using the code created in the decision trees notebook.\n",
    "\n",
    "Evaluate the accuracy on the testing set"
   ]
  },
  {
   "cell_type": "code",
   "execution_count": 8,
   "metadata": {},
   "outputs": [],
   "source": [
    "#Parámetros para el árbol\n",
    "max_depth = None\n",
    "num_pct = 10\n",
    "max_features = None\n",
    "min_gain=0.001"
   ]
  },
  {
   "cell_type": "code",
   "execution_count": 9,
   "metadata": {},
   "outputs": [
    {
     "name": "stdout",
     "output_type": "stream",
     "text": [
      "Mileage\n"
     ]
    }
   ],
   "source": [
    "# Para el feature 1 se van a calcular los posibles puntos de corte\n",
    "j = 1\n",
    "print(X.columns[j])"
   ]
  },
  {
   "cell_type": "code",
   "execution_count": 10,
   "metadata": {},
   "outputs": [],
   "source": [
    "# Se divide la variable en los puntos de corte, de acuerdo con el número definido en num_pct\n",
    "splits = np.percentile(X_train.iloc[:, j], np.arange(0, 100, 100.0 / num_pct).tolist())"
   ]
  },
  {
   "cell_type": "code",
   "execution_count": 11,
   "metadata": {},
   "outputs": [
    {
     "data": {
      "text/plain": [
       "array([6.000000e+00, 1.603480e+04, 2.324080e+04, 2.987540e+04,\n",
       "       3.565100e+04, 4.160950e+04, 4.849280e+04, 6.199830e+04,\n",
       "       8.097420e+04, 1.061537e+05])"
      ]
     },
     "execution_count": 11,
     "metadata": {},
     "output_type": "execute_result"
    }
   ],
   "source": [
    "#Se toman los valores únicos resultado de la deivisión\n",
    "splits = np.unique(splits)\n",
    "splits"
   ]
  },
  {
   "cell_type": "markdown",
   "metadata": {},
   "source": [
    "#### Gini\n",
    "\n",
    "Definimos la función para determinar la impuridad de Gini para cada nodo"
   ]
  },
  {
   "cell_type": "code",
   "execution_count": 12,
   "metadata": {},
   "outputs": [],
   "source": [
    "def gini(y):\n",
    "    if y.shape[0] == 0:\n",
    "        return 0\n",
    "    else:\n",
    "        return 1 - (y.mean()**2 + (1 - y.mean())**2)"
   ]
  },
  {
   "cell_type": "code",
   "execution_count": 13,
   "metadata": {},
   "outputs": [],
   "source": [
    "def gini_impurity(X_col, y, split):\n",
    "    \"Calculate the gain of an split k on feature j\"\n",
    "    \n",
    "    filter_l = X_col < split\n",
    "    y_l = y.loc[filter_l]\n",
    "    y_r = y.loc[~filter_l]\n",
    "    \n",
    "    n_l = y_l.shape[0]\n",
    "    n_r = y_r.shape[0]\n",
    "    \n",
    "    gini_y = gini(y)\n",
    "    gini_l = gini(y_l)\n",
    "    gini_r = gini(y_r)\n",
    "    \n",
    "    gini_impurity_ = gini_y - (n_l / (n_l + n_r) * gini_l + n_r / (n_l + n_r) * gini_r)\n",
    "    \n",
    "    return gini_impurity_"
   ]
  },
  {
   "cell_type": "code",
   "execution_count": 14,
   "metadata": {},
   "outputs": [
    {
     "data": {
      "text/plain": [
       "0.18743041714283493"
      ]
     },
     "execution_count": 14,
     "metadata": {},
     "output_type": "execute_result"
    }
   ],
   "source": [
    "gini_impurity(X_train.iloc[:, j], y_train, splits[5])"
   ]
  },
  {
   "cell_type": "markdown",
   "metadata": {},
   "source": [
    "Se prueban todas las particiones para todas variables"
   ]
  },
  {
   "cell_type": "code",
   "execution_count": 15,
   "metadata": {},
   "outputs": [],
   "source": [
    "def best_split(X, y, num_pct=10):\n",
    "    \n",
    "    features = range(X.shape[1])\n",
    "    \n",
    "    best_split = [0, 0, 0]  # j, split, gain\n",
    "    \n",
    "    # For all features\n",
    "    for j in features:\n",
    "        \n",
    "        splits = np.percentile(X.iloc[:, j], np.arange(0, 100, 100.0 / (num_pct+1)).tolist())\n",
    "        splits = np.unique(splits)[1:]\n",
    "        \n",
    "        # For all splits\n",
    "        for split in splits:\n",
    "            gain = gini_impurity(X.iloc[:, j], y, split)\n",
    "                        \n",
    "            if gain > best_split[2]:\n",
    "                best_split = [j, split, gain]\n",
    "    \n",
    "    return best_split"
   ]
  },
  {
   "cell_type": "code",
   "execution_count": 16,
   "metadata": {},
   "outputs": [
    {
     "data": {
      "text/plain": [
       "(1, 52187.63636363637, 0.23872134898880762)"
      ]
     },
     "execution_count": 16,
     "metadata": {},
     "output_type": "execute_result"
    }
   ],
   "source": [
    "j, split, gain = best_split(X_train, y_train, 10)\n",
    "j, split, gain"
   ]
  },
  {
   "cell_type": "markdown",
   "metadata": {},
   "source": [
    "Donde la mejor variable o feature es la 1 \"Mileage\" (Kilometraje) y se debe partir usando el valor de 52187.63, obteniendo una ganancia de Gini de 0.238"
   ]
  },
  {
   "cell_type": "markdown",
   "metadata": {},
   "source": [
    "Comprobamos la proporción de los datos que se están logrando dividir"
   ]
  },
  {
   "cell_type": "code",
   "execution_count": 17,
   "metadata": {},
   "outputs": [],
   "source": [
    "filter_l = X_train.iloc[:, j] < split\n",
    "\n",
    "y_l = y_train.loc[filter_l]\n",
    "y_r = y_train.loc[~filter_l]"
   ]
  },
  {
   "cell_type": "code",
   "execution_count": 18,
   "metadata": {},
   "outputs": [
    {
     "data": {
      "text/plain": [
       "(0.5780930760499432, 0.839279343560471, 0.12109862671660425)"
      ]
     },
     "execution_count": 18,
     "metadata": {},
     "output_type": "execute_result"
    }
   ],
   "source": [
    "y_train.mean(), y_l.mean(), y_r.mean()"
   ]
  },
  {
   "cell_type": "markdown",
   "metadata": {},
   "source": [
    "En el set total de datos el 57.8% de los autos tienen precios altos, con la división realizada, por la izquierda el 83.9% de los autos tienen precio alto, y por la izquierda el 12.1% de los autos tienen precio alto, por lo cual esta división ya está logrando una buena clasificación"
   ]
  },
  {
   "cell_type": "markdown",
   "metadata": {},
   "source": [
    "Ahora se aplica una función recursiva con el fin de generar el árbol con las particiones que obtengan una mayor ganancia de Gini en cada iteración"
   ]
  },
  {
   "cell_type": "code",
   "execution_count": 19,
   "metadata": {},
   "outputs": [],
   "source": [
    "def tree_grow(X, y, level=0, min_gain=0.001, max_depth=None, num_pct=10):\n",
    "    \n",
    "    # If only one observation\n",
    "    if X.shape[0] == 1:\n",
    "        tree = dict(y_pred=y.iloc[:1].values[0], y_prob=0.5, level=level, split=-1, n_samples=1, gain=0)\n",
    "        return tree\n",
    "    \n",
    "    # Calculate the best split\n",
    "    j, split, gain = best_split(X, y, num_pct)\n",
    "    \n",
    "    # save tree and estimate prediction\n",
    "    y_pred = int(y.mean() >= 0.5) \n",
    "    y_prob = (y.sum() + 1.0) / (y.shape[0] + 2.0)  # Laplace correction\n",
    "    \n",
    "    tree = dict(y_pred=y_pred, y_prob=y_prob, level=level, split=-1, n_samples=X.shape[0], gain=gain)\n",
    "    \n",
    "    # Check stooping criteria\n",
    "    if gain < min_gain:\n",
    "        return tree\n",
    "    if max_depth is not None:\n",
    "        if level >= max_depth:\n",
    "            return tree   \n",
    "    \n",
    "    # No stooping criteria was meet, then continue to create the partition\n",
    "    filter_l = X.iloc[:, j] < split\n",
    "    X_l, y_l = X.loc[filter_l], y.loc[filter_l]\n",
    "    X_r, y_r = X.loc[~filter_l], y.loc[~filter_l]\n",
    "    tree['split'] = [j, split]\n",
    "\n",
    "    # Next iteration to each split\n",
    "    \n",
    "    tree['sl'] = tree_grow(X_l, y_l, level + 1, min_gain=min_gain, max_depth=max_depth, num_pct=num_pct)\n",
    "    tree['sr'] = tree_grow(X_r, y_r, level + 1, min_gain=min_gain, max_depth=max_depth, num_pct=num_pct)\n",
    "    \n",
    "    return tree"
   ]
  },
  {
   "cell_type": "code",
   "execution_count": 20,
   "metadata": {},
   "outputs": [
    {
     "data": {
      "text/plain": [
       "{'y_pred': 1,\n",
       " 'y_prob': 0.5780753517930095,\n",
       " 'level': 0,\n",
       " 'split': [1, 52187.63636363637],\n",
       " 'n_samples': 8810,\n",
       " 'gain': 0.23872134898880762,\n",
       " 'sl': {'y_pred': 1,\n",
       "  'y_prob': 0.8391583452211127,\n",
       "  'level': 1,\n",
       "  'split': [0, 2014.0],\n",
       "  'n_samples': 5606,\n",
       "  'gain': 0.03317687167496233,\n",
       "  'sl': {'y_pred': 0,\n",
       "   'y_prob': 0.36828644501278773,\n",
       "   'level': 2,\n",
       "   'split': [0, 2012.0],\n",
       "   'n_samples': 389,\n",
       "   'gain': 0.05908490521197157,\n",
       "   'sl': {'y_pred': 0,\n",
       "    'y_prob': 0.08,\n",
       "    'level': 3,\n",
       "    'split': [2, 1.0],\n",
       "    'n_samples': 98,\n",
       "    'gain': 0.01707452211653898,\n",
       "    'sl': {'y_pred': 0,\n",
       "     'y_prob': 0.04597701149425287,\n",
       "     'level': 4,\n",
       "     'split': [1, 37722.0],\n",
       "     'n_samples': 85,\n",
       "     'gain': 0.001980228771650633,\n",
       "     'sl': {'y_pred': 0,\n",
       "      'y_prob': 0.12,\n",
       "      'level': 5,\n",
       "      'split': -1,\n",
       "      'n_samples': 23,\n",
       "      'gain': 0.03456656764785304},\n",
       "     'sr': {'y_pred': 0,\n",
       "      'y_prob': 0.03125,\n",
       "      'level': 5,\n",
       "      'split': -1,\n",
       "      'n_samples': 62,\n",
       "      'gain': 0.002167880679847252}},\n",
       "    'sr': {'y_pred': 0,\n",
       "     'y_prob': 0.3333333333333333,\n",
       "     'level': 4,\n",
       "     'split': [1, 40282.27272727273],\n",
       "     'n_samples': 13,\n",
       "     'gain': 0.3029585798816569,\n",
       "     'sl': {'y_pred': 1,\n",
       "      'y_prob': 0.7142857142857143,\n",
       "      'level': 5,\n",
       "      'split': -1,\n",
       "      'n_samples': 5,\n",
       "      'gain': 0.05333333333333318},\n",
       "     'sr': {'y_pred': 0,\n",
       "      'y_prob': 0.1,\n",
       "      'level': 5,\n",
       "      'split': -1,\n",
       "      'n_samples': 8,\n",
       "      'gain': 0}}},\n",
       "   'sr': {'y_pred': 0,\n",
       "    'y_prob': 0.46757679180887374,\n",
       "    'level': 3,\n",
       "    'split': [1, 40957.63636363636],\n",
       "    'n_samples': 291,\n",
       "    'gain': 0.036947257392555666,\n",
       "    'sl': {'y_pred': 1,\n",
       "     'y_prob': 0.5900621118012422,\n",
       "     'level': 4,\n",
       "     'split': [6, 1.0],\n",
       "     'n_samples': 159,\n",
       "     'gain': 0.02113146329703186,\n",
       "     'sl': {'y_pred': 1,\n",
       "      'y_prob': 0.625,\n",
       "      'level': 5,\n",
       "      'split': -1,\n",
       "      'n_samples': 142,\n",
       "      'gain': 0.026368394549310947},\n",
       "     'sr': {'y_pred': 0,\n",
       "      'y_prob': 0.3157894736842105,\n",
       "      'level': 5,\n",
       "      'split': -1,\n",
       "      'n_samples': 17,\n",
       "      'gain': 0.0594826165760422}},\n",
       "    'sr': {'y_pred': 0,\n",
       "     'y_prob': 0.3208955223880597,\n",
       "     'level': 4,\n",
       "     'split': [2, 1.0],\n",
       "     'n_samples': 132,\n",
       "     'gain': 0.03762646053006563,\n",
       "     'sl': {'y_pred': 0,\n",
       "      'y_prob': 0.2711864406779661,\n",
       "      'level': 5,\n",
       "      'split': -1,\n",
       "      'n_samples': 116,\n",
       "      'gain': 0.03806292472788064},\n",
       "     'sr': {'y_pred': 1,\n",
       "      'y_prob': 0.6666666666666666,\n",
       "      'level': 5,\n",
       "      'split': -1,\n",
       "      'n_samples': 16,\n",
       "      'gain': 0.057892628205128194}}}},\n",
       "  'sr': {'y_pred': 1,\n",
       "   'y_prob': 0.8743054224947308,\n",
       "   'level': 2,\n",
       "   'split': [0, 2015.0],\n",
       "   'n_samples': 5217,\n",
       "   'gain': 0.014933378976312917,\n",
       "   'sl': {'y_pred': 1,\n",
       "    'y_prob': 0.7348484848484849,\n",
       "    'level': 3,\n",
       "    'split': [6, 1.0],\n",
       "    'n_samples': 1450,\n",
       "    'gain': 0.02449522073718463,\n",
       "    'sl': {'y_pred': 1,\n",
       "     'y_prob': 0.7944839857651246,\n",
       "     'level': 4,\n",
       "     'split': [1, 35886.818181818184],\n",
       "     'n_samples': 1122,\n",
       "     'gain': 0.014757969303423768,\n",
       "     'sl': {'y_pred': 1,\n",
       "      'y_prob': 0.8589385474860335,\n",
       "      'level': 5,\n",
       "      'split': -1,\n",
       "      'n_samples': 714,\n",
       "      'gain': 0.0033895911305698023},\n",
       "     'sr': {'y_pred': 1,\n",
       "      'y_prob': 0.6804878048780488,\n",
       "      'level': 5,\n",
       "      'split': -1,\n",
       "      'n_samples': 408,\n",
       "      'gain': 0.012729210678948388}},\n",
       "    'sr': {'y_pred': 1,\n",
       "     'y_prob': 0.5303030303030303,\n",
       "     'level': 4,\n",
       "     'split': [1, 23655.63636363636],\n",
       "     'n_samples': 328,\n",
       "     'gain': 0.05955840000088869,\n",
       "     'sl': {'y_pred': 1,\n",
       "      'y_prob': 0.8043478260869565,\n",
       "      'level': 5,\n",
       "      'split': -1,\n",
       "      'n_samples': 90,\n",
       "      'gain': 0.014513031550068334},\n",
       "     'sr': {'y_pred': 0,\n",
       "      'y_prob': 0.425,\n",
       "      'level': 5,\n",
       "      'split': -1,\n",
       "      'n_samples': 238,\n",
       "      'gain': 0.0254138300807476}}},\n",
       "   'sr': {'y_pred': 1,\n",
       "    'y_prob': 0.9278323162642611,\n",
       "    'level': 3,\n",
       "    'split': [1, 30771.999999999993],\n",
       "    'n_samples': 3767,\n",
       "    'gain': 0.008300801773423822,\n",
       "    'sl': {'y_pred': 1,\n",
       "     'y_prob': 0.986387943607195,\n",
       "     'level': 4,\n",
       "     'split': -1,\n",
       "     'n_samples': 2055,\n",
       "     'gain': 0.00023956749233127253},\n",
       "    'sr': {'y_pred': 1,\n",
       "     'y_prob': 0.8570595099183197,\n",
       "     'level': 4,\n",
       "     'split': [6, 1.0],\n",
       "     'n_samples': 1712,\n",
       "     'gain': 0.005854000731995768,\n",
       "     'sl': {'y_pred': 1,\n",
       "      'y_prob': 0.8903225806451613,\n",
       "      'level': 5,\n",
       "      'split': -1,\n",
       "      'n_samples': 1238,\n",
       "      'gain': 0.005257436508304791},\n",
       "     'sr': {'y_pred': 1,\n",
       "      'y_prob': 0.7689075630252101,\n",
       "      'level': 5,\n",
       "      'split': -1,\n",
       "      'n_samples': 474,\n",
       "      'gain': 0.010029135590344795}}}}},\n",
       " 'sr': {'y_pred': 0,\n",
       "  'y_prob': 0.12133499688084841,\n",
       "  'level': 1,\n",
       "  'split': [0, 2014.0],\n",
       "  'n_samples': 3204,\n",
       "  'gain': 0.04366470703709979,\n",
       "  'sl': {'y_pred': 0,\n",
       "   'y_prob': 0.03787566899958831,\n",
       "   'level': 2,\n",
       "   'split': [0, 2012.0],\n",
       "   'n_samples': 2427,\n",
       "   'gain': 0.0044807442426036265,\n",
       "   'sl': {'y_pred': 0,\n",
       "    'y_prob': 0.007571345369831101,\n",
       "    'level': 3,\n",
       "    'split': -1,\n",
       "    'n_samples': 1715,\n",
       "    'gain': 6.140801902596027e-05},\n",
       "   'sr': {'y_pred': 0,\n",
       "    'y_prob': 0.11204481792717087,\n",
       "    'level': 3,\n",
       "    'split': [1, 71316.81818181818],\n",
       "    'n_samples': 712,\n",
       "    'gain': 0.008448612165673108,\n",
       "    'sl': {'y_pred': 0,\n",
       "     'y_prob': 0.19923371647509577,\n",
       "     'level': 4,\n",
       "     'split': [2, 1.0],\n",
       "     'n_samples': 259,\n",
       "     'gain': 0.04528745451218574,\n",
       "     'sl': {'y_pred': 0,\n",
       "      'y_prob': 0.14655172413793102,\n",
       "      'level': 5,\n",
       "      'split': -1,\n",
       "      'n_samples': 230,\n",
       "      'gain': 0.002541639075808011},\n",
       "     'sr': {'y_pred': 1,\n",
       "      'y_prob': 0.6129032258064516,\n",
       "      'level': 5,\n",
       "      'split': -1,\n",
       "      'n_samples': 29,\n",
       "      'gain': 0.033738094380187045}},\n",
       "    'sr': {'y_pred': 0,\n",
       "     'y_prob': 0.06373626373626373,\n",
       "     'level': 4,\n",
       "     'split': [1, 92189.63636363637],\n",
       "     'n_samples': 453,\n",
       "     'gain': 0.0028290521843437333,\n",
       "     'sl': {'y_pred': 0,\n",
       "      'y_prob': 0.09310344827586207,\n",
       "      'level': 5,\n",
       "      'split': -1,\n",
       "      'n_samples': 288,\n",
       "      'gain': 0.0022297392089057344},\n",
       "     'sr': {'y_pred': 0,\n",
       "      'y_prob': 0.017964071856287425,\n",
       "      'level': 5,\n",
       "      'split': -1,\n",
       "      'n_samples': 165,\n",
       "      'gain': 0.0005950413223138745}}}},\n",
       "  'sr': {'y_pred': 0,\n",
       "   'y_prob': 0.38254172015404364,\n",
       "   'level': 2,\n",
       "   'split': [1, 69702.90909090909],\n",
       "   'n_samples': 777,\n",
       "   'gain': 0.040449309391888344,\n",
       "   'sl': {'y_pred': 0,\n",
       "    'y_prob': 0.4899193548387097,\n",
       "    'level': 3,\n",
       "    'split': [8, 1.0],\n",
       "    'n_samples': 494,\n",
       "    'gain': 0.024087071241494562,\n",
       "    'sl': {'y_pred': 0,\n",
       "     'y_prob': 0.4444444444444444,\n",
       "     'level': 4,\n",
       "     'split': [0, 2016.0],\n",
       "     'n_samples': 421,\n",
       "     'gain': 0.028321955781708874,\n",
       "     'sl': {'y_pred': 0,\n",
       "      'y_prob': 0.40053763440860213,\n",
       "      'level': 5,\n",
       "      'split': -1,\n",
       "      'n_samples': 370,\n",
       "      'gain': 0.01229597107438013},\n",
       "     'sr': {'y_pred': 1,\n",
       "      'y_prob': 0.7547169811320755,\n",
       "      'level': 5,\n",
       "      'split': -1,\n",
       "      'n_samples': 51,\n",
       "      'gain': 0.06537858109995909}},\n",
       "    'sr': {'y_pred': 1,\n",
       "     'y_prob': 0.7466666666666667,\n",
       "     'level': 4,\n",
       "     'split': [1, 60252.454545454544],\n",
       "     'n_samples': 73,\n",
       "     'gain': 0.014910125840882194,\n",
       "     'sl': {'y_pred': 1,\n",
       "      'y_prob': 0.8285714285714286,\n",
       "      'level': 5,\n",
       "      'split': -1,\n",
       "      'n_samples': 33,\n",
       "      'gain': 0.017217630853994303},\n",
       "     'sr': {'y_pred': 1,\n",
       "      'y_prob': 0.6666666666666666,\n",
       "      'level': 5,\n",
       "      'split': -1,\n",
       "      'n_samples': 40,\n",
       "      'gain': 0.023472222222222117}}},\n",
       "   'sr': {'y_pred': 0,\n",
       "    'y_prob': 0.19649122807017544,\n",
       "    'level': 3,\n",
       "    'split': [8, 1.0],\n",
       "    'n_samples': 283,\n",
       "    'gain': 0.025513433574225197,\n",
       "    'sl': {'y_pred': 0,\n",
       "     'y_prob': 0.1553784860557769,\n",
       "     'level': 4,\n",
       "     'split': [1, 89691.81818181818],\n",
       "     'n_samples': 249,\n",
       "     'gain': 0.008844272731990593,\n",
       "     'sl': {'y_pred': 0,\n",
       "      'y_prob': 0.19672131147540983,\n",
       "      'level': 5,\n",
       "      'split': -1,\n",
       "      'n_samples': 181,\n",
       "      'gain': 0.010066764731326172},\n",
       "     'sr': {'y_pred': 0,\n",
       "      'y_prob': 0.05714285714285714,\n",
       "      'level': 5,\n",
       "      'split': -1,\n",
       "      'n_samples': 68,\n",
       "      'gain': 0.0028945967527283234}},\n",
       "    'sr': {'y_pred': 1,\n",
       "     'y_prob': 0.5,\n",
       "     'level': 4,\n",
       "     'split': [0, 2015.0],\n",
       "     'n_samples': 34,\n",
       "     'gain': 0.10888888888888887,\n",
       "     'sl': {'y_pred': 0,\n",
       "      'y_prob': 0.37037037037037035,\n",
       "      'level': 5,\n",
       "      'split': -1,\n",
       "      'n_samples': 25,\n",
       "      'gain': 0.06968888888888886},\n",
       "     'sr': {'y_pred': 1,\n",
       "      'y_prob': 0.8181818181818182,\n",
       "      'level': 5,\n",
       "      'split': -1,\n",
       "      'n_samples': 9,\n",
       "      'gain': 0.04938271604938271}}}}}}"
      ]
     },
     "execution_count": 20,
     "metadata": {},
     "output_type": "execute_result"
    }
   ],
   "source": [
    "tree = tree_grow(X_train, y_train, level=0, min_gain=0.001, max_depth=5, num_pct=10)\n",
    "tree"
   ]
  },
  {
   "cell_type": "markdown",
   "metadata": {},
   "source": [
    "#### Se realiza la predicción"
   ]
  },
  {
   "cell_type": "code",
   "execution_count": 21,
   "metadata": {},
   "outputs": [],
   "source": [
    "def tree_predict(X, tree, proba=False):\n",
    "    \n",
    "    predicted = np.ones(X.shape[0])\n",
    "\n",
    "    # Check if final node\n",
    "    if tree['split'] == -1:\n",
    "        if not proba:\n",
    "            predicted = predicted * tree['y_pred']\n",
    "        else:\n",
    "            predicted = predicted * tree['y_prob']\n",
    "            \n",
    "    else:\n",
    "        \n",
    "        j, split = tree['split']\n",
    "        filter_l = (X.iloc[:, j] < split)\n",
    "        X_l = X.loc[filter_l]\n",
    "        X_r = X.loc[~filter_l]\n",
    "\n",
    "        if X_l.shape[0] == 0:  # If left node is empty only continue with right\n",
    "            predicted[~filter_l] = tree_predict(X_r, tree['sr'], proba)\n",
    "        elif X_r.shape[0] == 0:  # If right node is empty only continue with left\n",
    "            predicted[filter_l] = tree_predict(X_l, tree['sl'], proba)\n",
    "        else:\n",
    "            predicted[filter_l] = tree_predict(X_l, tree['sl'], proba)\n",
    "            predicted[~filter_l] = tree_predict(X_r, tree['sr'], proba)\n",
    "\n",
    "    return predicted "
   ]
  },
  {
   "cell_type": "code",
   "execution_count": 22,
   "metadata": {},
   "outputs": [
    {
     "data": {
      "text/plain": [
       "array([1., 1., 1., ..., 1., 1., 0.])"
      ]
     },
     "execution_count": 22,
     "metadata": {},
     "output_type": "execute_result"
    }
   ],
   "source": [
    "y_calc= tree_predict(X_test, tree)\n",
    "y_calc"
   ]
  },
  {
   "cell_type": "code",
   "execution_count": 23,
   "metadata": {},
   "outputs": [
    {
     "data": {
      "text/plain": [
       "0.8730414746543779"
      ]
     },
     "execution_count": 23,
     "metadata": {},
     "output_type": "execute_result"
    }
   ],
   "source": [
    "from sklearn.metrics import accuracy_score\n",
    "accuracy_score(y_test, y_calc)"
   ]
  },
  {
   "cell_type": "markdown",
   "metadata": {},
   "source": [
    "# Exercise 8.2\n",
    "\n",
    "Estimate a Bagging of 10 Decision Tree Classifiers Manually using the code created in bagging notebook.\n",
    "\n",
    "Evaluate the accuracy on the testing set"
   ]
  },
  {
   "cell_type": "code",
   "execution_count": 24,
   "metadata": {},
   "outputs": [
    {
     "data": {
      "text/plain": [
       "[array([ 561, 8671, 7581, ..., 5941, 4622,  753]),\n",
       " array([3164, 3318, 8243, ..., 6224, 4327, 3213]),\n",
       " array([7648, 2326, 4731, ...,  183, 8679, 2312]),\n",
       " array([3891, 5780, 5531, ..., 1309, 3123, 8690]),\n",
       " array([3256, 3893, 6526, ..., 5683,  211, 2583]),\n",
       " array([2574, 8502, 5537, ..., 7856,  588, 4528]),\n",
       " array([1186, 1222, 3326, ..., 4558, 6660, 1120]),\n",
       " array([3121, 3601, 1772, ..., 4926, 2570, 5889]),\n",
       " array([3758, 8537, 8448, ..., 3375, 2236, 7761]),\n",
       " array([2200,  319, 5979, ..., 5574,  284, 7476])]"
      ]
     },
     "execution_count": 24,
     "metadata": {},
     "output_type": "execute_result"
    }
   ],
   "source": [
    "# Se fija la semilla para replicabilidad\n",
    "np.random.seed(543)\n",
    "\n",
    "n_samples = X_train.shape[0]\n",
    "n_B = 10\n",
    "\n",
    "# Se crean las 10 muestras de bootstrap, seleccionando diferentes filas del dataframe\n",
    "samples = [np.random.choice(a=n_samples, size=n_samples, replace=True) for _ in range(1, n_B +1 )]\n",
    "samples"
   ]
  },
  {
   "cell_type": "markdown",
   "metadata": {},
   "source": [
    "Se crea un árbol con cada muestra de datos creada del set de train"
   ]
  },
  {
   "cell_type": "code",
   "execution_count": 25,
   "metadata": {},
   "outputs": [],
   "source": [
    "from sklearn.tree import DecisionTreeRegressor\n",
    "\n",
    "# Se define la creación del árbol\n",
    "treereg = DecisionTreeRegressor(max_depth=None, random_state=543)\n",
    "\n",
    "# Se almacena la predicción de cada árbol\n",
    "y_pred = pd.DataFrame(index=X_test.index, columns=[list(range(n_B))])"
   ]
  },
  {
   "cell_type": "code",
   "execution_count": 32,
   "metadata": {},
   "outputs": [],
   "source": [
    "# Se crea cada árbol con cada muestra de bootstrap y se realizan las predicciones con el set de test\n",
    "for i, sample in enumerate(samples):\n",
    "    X_train1 = X_train.iloc[sample]\n",
    "    y_train1 = y_train.iloc[sample]\n",
    "    treereg.fit(X_train1, y_train1)\n",
    "    y_pred[i] = treereg.predict(X_test).astype('int')"
   ]
  },
  {
   "cell_type": "code",
   "execution_count": 33,
   "metadata": {},
   "outputs": [
    {
     "data": {
      "text/html": [
       "<div>\n",
       "<style scoped>\n",
       "    .dataframe tbody tr th:only-of-type {\n",
       "        vertical-align: middle;\n",
       "    }\n",
       "\n",
       "    .dataframe tbody tr th {\n",
       "        vertical-align: top;\n",
       "    }\n",
       "\n",
       "    .dataframe thead tr th {\n",
       "        text-align: left;\n",
       "    }\n",
       "</style>\n",
       "<table border=\"1\" class=\"dataframe\">\n",
       "  <thead>\n",
       "    <tr>\n",
       "      <th></th>\n",
       "      <th>0</th>\n",
       "      <th>1</th>\n",
       "      <th>2</th>\n",
       "      <th>3</th>\n",
       "      <th>4</th>\n",
       "      <th>5</th>\n",
       "      <th>6</th>\n",
       "      <th>7</th>\n",
       "      <th>8</th>\n",
       "      <th>9</th>\n",
       "    </tr>\n",
       "  </thead>\n",
       "  <tbody>\n",
       "    <tr>\n",
       "      <th>332784</th>\n",
       "      <td>0</td>\n",
       "      <td>0</td>\n",
       "      <td>1</td>\n",
       "      <td>1</td>\n",
       "      <td>0</td>\n",
       "      <td>0</td>\n",
       "      <td>0</td>\n",
       "      <td>1</td>\n",
       "      <td>0</td>\n",
       "      <td>1</td>\n",
       "    </tr>\n",
       "    <tr>\n",
       "      <th>146436</th>\n",
       "      <td>1</td>\n",
       "      <td>1</td>\n",
       "      <td>1</td>\n",
       "      <td>1</td>\n",
       "      <td>1</td>\n",
       "      <td>1</td>\n",
       "      <td>1</td>\n",
       "      <td>1</td>\n",
       "      <td>1</td>\n",
       "      <td>1</td>\n",
       "    </tr>\n",
       "    <tr>\n",
       "      <th>130476</th>\n",
       "      <td>1</td>\n",
       "      <td>1</td>\n",
       "      <td>1</td>\n",
       "      <td>1</td>\n",
       "      <td>1</td>\n",
       "      <td>1</td>\n",
       "      <td>1</td>\n",
       "      <td>1</td>\n",
       "      <td>1</td>\n",
       "      <td>1</td>\n",
       "    </tr>\n",
       "    <tr>\n",
       "      <th>85618</th>\n",
       "      <td>1</td>\n",
       "      <td>1</td>\n",
       "      <td>1</td>\n",
       "      <td>1</td>\n",
       "      <td>1</td>\n",
       "      <td>1</td>\n",
       "      <td>1</td>\n",
       "      <td>1</td>\n",
       "      <td>1</td>\n",
       "      <td>1</td>\n",
       "    </tr>\n",
       "    <tr>\n",
       "      <th>75474</th>\n",
       "      <td>0</td>\n",
       "      <td>0</td>\n",
       "      <td>0</td>\n",
       "      <td>0</td>\n",
       "      <td>0</td>\n",
       "      <td>0</td>\n",
       "      <td>0</td>\n",
       "      <td>0</td>\n",
       "      <td>0</td>\n",
       "      <td>0</td>\n",
       "    </tr>\n",
       "    <tr>\n",
       "      <th>...</th>\n",
       "      <td>...</td>\n",
       "      <td>...</td>\n",
       "      <td>...</td>\n",
       "      <td>...</td>\n",
       "      <td>...</td>\n",
       "      <td>...</td>\n",
       "      <td>...</td>\n",
       "      <td>...</td>\n",
       "      <td>...</td>\n",
       "      <td>...</td>\n",
       "    </tr>\n",
       "    <tr>\n",
       "      <th>244795</th>\n",
       "      <td>1</td>\n",
       "      <td>1</td>\n",
       "      <td>1</td>\n",
       "      <td>1</td>\n",
       "      <td>1</td>\n",
       "      <td>1</td>\n",
       "      <td>1</td>\n",
       "      <td>1</td>\n",
       "      <td>1</td>\n",
       "      <td>1</td>\n",
       "    </tr>\n",
       "    <tr>\n",
       "      <th>366403</th>\n",
       "      <td>0</td>\n",
       "      <td>0</td>\n",
       "      <td>0</td>\n",
       "      <td>0</td>\n",
       "      <td>0</td>\n",
       "      <td>0</td>\n",
       "      <td>0</td>\n",
       "      <td>0</td>\n",
       "      <td>0</td>\n",
       "      <td>0</td>\n",
       "    </tr>\n",
       "    <tr>\n",
       "      <th>269482</th>\n",
       "      <td>1</td>\n",
       "      <td>1</td>\n",
       "      <td>1</td>\n",
       "      <td>1</td>\n",
       "      <td>1</td>\n",
       "      <td>0</td>\n",
       "      <td>1</td>\n",
       "      <td>1</td>\n",
       "      <td>1</td>\n",
       "      <td>1</td>\n",
       "    </tr>\n",
       "    <tr>\n",
       "      <th>5010</th>\n",
       "      <td>1</td>\n",
       "      <td>1</td>\n",
       "      <td>1</td>\n",
       "      <td>1</td>\n",
       "      <td>1</td>\n",
       "      <td>1</td>\n",
       "      <td>1</td>\n",
       "      <td>1</td>\n",
       "      <td>1</td>\n",
       "      <td>1</td>\n",
       "    </tr>\n",
       "    <tr>\n",
       "      <th>310628</th>\n",
       "      <td>0</td>\n",
       "      <td>0</td>\n",
       "      <td>0</td>\n",
       "      <td>0</td>\n",
       "      <td>0</td>\n",
       "      <td>0</td>\n",
       "      <td>0</td>\n",
       "      <td>0</td>\n",
       "      <td>0</td>\n",
       "      <td>1</td>\n",
       "    </tr>\n",
       "  </tbody>\n",
       "</table>\n",
       "<p>4340 rows × 10 columns</p>\n",
       "</div>"
      ],
      "text/plain": [
       "        0  1  2  3  4  5  6  7  8  9\n",
       "332784  0  0  1  1  0  0  0  1  0  1\n",
       "146436  1  1  1  1  1  1  1  1  1  1\n",
       "130476  1  1  1  1  1  1  1  1  1  1\n",
       "85618   1  1  1  1  1  1  1  1  1  1\n",
       "75474   0  0  0  0  0  0  0  0  0  0\n",
       "...    .. .. .. .. .. .. .. .. .. ..\n",
       "244795  1  1  1  1  1  1  1  1  1  1\n",
       "366403  0  0  0  0  0  0  0  0  0  0\n",
       "269482  1  1  1  1  1  0  1  1  1  1\n",
       "5010    1  1  1  1  1  1  1  1  1  1\n",
       "310628  0  0  0  0  0  0  0  0  0  1\n",
       "\n",
       "[4340 rows x 10 columns]"
      ]
     },
     "execution_count": 33,
     "metadata": {},
     "output_type": "execute_result"
    }
   ],
   "source": [
    "y_pred"
   ]
  },
  {
   "cell_type": "code",
   "execution_count": 34,
   "metadata": {},
   "outputs": [
    {
     "name": "stdout",
     "output_type": "stream",
     "text": [
      "0 0.8414746543778802\n",
      "1 0.8311059907834102\n",
      "2 0.832258064516129\n",
      "3 0.8320276497695852\n",
      "4 0.836405529953917\n",
      "5 0.8341013824884793\n",
      "6 0.8281105990783411\n",
      "7 0.832258064516129\n",
      "8 0.8283410138248848\n",
      "9 0.8317972350230415\n"
     ]
    }
   ],
   "source": [
    "#Resultado de cada árbol\n",
    "for i in range(n_B):\n",
    "    print(i, accuracy_score(y_test,y_pred[i]))"
   ]
  },
  {
   "cell_type": "markdown",
   "metadata": {},
   "source": [
    "Resultados del ensamble"
   ]
  },
  {
   "cell_type": "code",
   "execution_count": 41,
   "metadata": {},
   "outputs": [
    {
     "data": {
      "text/plain": [
       "332784    0\n",
       "146436    1\n",
       "130476    1\n",
       "85618     1\n",
       "75474     0\n",
       "         ..\n",
       "244795    1\n",
       "366403    0\n",
       "269482    1\n",
       "5010      1\n",
       "310628    0\n",
       "Length: 4340, dtype: int32"
      ]
     },
     "execution_count": 41,
     "metadata": {},
     "output_type": "execute_result"
    }
   ],
   "source": [
    "pred_ensamble=np.round(y_pred.mean(axis=1)).astype('int')\n",
    "pred_ensamble"
   ]
  },
  {
   "cell_type": "code",
   "execution_count": 42,
   "metadata": {},
   "outputs": [
    {
     "data": {
      "text/plain": [
       "0.8465437788018433"
      ]
     },
     "execution_count": 42,
     "metadata": {},
     "output_type": "execute_result"
    }
   ],
   "source": [
    "accuracy_score(y_test,pred_ensamble)"
   ]
  },
  {
   "cell_type": "markdown",
   "metadata": {},
   "source": [
    "Se observa como la precisión mejora en comparación con los modelos individuales donde el mejor resultado era 0.8414, obteniendo con el ensamble una precisión de 0.8465"
   ]
  },
  {
   "cell_type": "markdown",
   "metadata": {},
   "source": [
    "# Exercise 8.3\n",
    "\n",
    "Implement the variable max_features on the Decision Tree Classifier created in 11.1.\n",
    "\n",
    "Compare the impact in the results by varing the parameter max_features\n",
    "\n",
    "Evaluate the accuracy on the testing set"
   ]
  },
  {
   "cell_type": "markdown",
   "metadata": {},
   "source": [
    "Se toma la función donde se realiza la partición de cada variable, donde se va a modificar para que no tenga en cuenta todas sino las que se definan como max_features y se ajustan las funciones para incorporar el cambio"
   ]
  },
  {
   "cell_type": "code",
   "execution_count": 172,
   "metadata": {},
   "outputs": [],
   "source": [
    "def best_split(X, y, max_features = 1, num_pct=10):\n",
    "    \n",
    "    features = range(0,max_features)\n",
    "    \n",
    "    best_split = [0, 0, 0]  # j, split, gain\n",
    "    \n",
    "    # For all features\n",
    "    for j in features:\n",
    "        \n",
    "        splits = np.percentile(X.iloc[:, j], np.arange(0, 100, 100.0 / (num_pct+1)).tolist())\n",
    "        splits = np.unique(splits)[1:]\n",
    "        \n",
    "        # For all splits\n",
    "        for split in splits:\n",
    "            gain = gini_impurity(X.iloc[:, j], y, split)\n",
    "                        \n",
    "            if gain > best_split[2]:\n",
    "                best_split = [j, split, gain]\n",
    "    \n",
    "    return best_split"
   ]
  },
  {
   "cell_type": "code",
   "execution_count": 173,
   "metadata": {},
   "outputs": [],
   "source": [
    "def tree_grow(X, y, level=0, min_gain=0.001, max_depth=None, max_features = 1, num_pct=10):\n",
    "    \n",
    "    # If only one observation\n",
    "    if X.shape[0] == 1:\n",
    "        tree = dict(y_pred=y.iloc[:1].values[0], y_prob=0.5, level=level, split=-1, n_samples=1, gain=0)\n",
    "        return tree\n",
    "    \n",
    "    # Calculate the best split\n",
    "    j, split, gain = best_split(X, y, max_features, num_pct)\n",
    "    \n",
    "    # save tree and estimate prediction\n",
    "    y_pred = int(y.mean() >= 0.5) \n",
    "    y_prob = (y.sum() + 1.0) / (y.shape[0] + 2.0)  # Laplace correction\n",
    "    \n",
    "    tree = dict(y_pred=y_pred, y_prob=y_prob, level=level, split=-1, n_samples=X.shape[0], gain=gain)\n",
    "    \n",
    "    # Check stooping criteria\n",
    "    if gain < min_gain:\n",
    "        return tree\n",
    "    if max_depth is not None:\n",
    "        if level >= max_depth:\n",
    "            return tree   \n",
    "    \n",
    "    # No stooping criteria was meet, then continue to create the partition\n",
    "    filter_l = X.iloc[:, j] < split\n",
    "    X_l, y_l = X.loc[filter_l], y.loc[filter_l]\n",
    "    X_r, y_r = X.loc[~filter_l], y.loc[~filter_l]\n",
    "    tree['split'] = [j, split]\n",
    "\n",
    "    # Next iteration to each split\n",
    "    \n",
    "    tree['sl'] = tree_grow(X_l, y_l, level + 1, min_gain=min_gain, max_depth=max_depth, num_pct=num_pct)\n",
    "    tree['sr'] = tree_grow(X_r, y_r, level + 1, min_gain=min_gain, max_depth=max_depth, num_pct=num_pct)\n",
    "    \n",
    "    return tree"
   ]
  },
  {
   "cell_type": "code",
   "execution_count": 175,
   "metadata": {},
   "outputs": [],
   "source": [
    "# Lista de número max_features a probar\n",
    "features_range = range(0, 9)\n",
    "\n",
    "# lista para almacenar la precisión de los árboles al utilizar la muestra de test\n",
    "accuracy_scores = []\n",
    "\n",
    "for estimator in features_range:\n",
    "    tree2 = tree_grow(X_train, y_train, level=0, min_gain=0.001, max_features=estimator, max_depth=5, num_pct=10)\n",
    "    y_calc2= tree_predict(X_test, tree2)\n",
    "    accuracy_scores.append(accuracy_score(y_test,y_calc2))"
   ]
  },
  {
   "cell_type": "code",
   "execution_count": 176,
   "metadata": {},
   "outputs": [
    {
     "data": {
      "text/plain": [
       "Text(0, 0.5, 'Accuracy')"
      ]
     },
     "execution_count": 176,
     "metadata": {},
     "output_type": "execute_result"
    },
    {
     "data": {
      "image/png": "[encoded data removed]",
      "text/plain": [
       "<Figure size 432x288 with 1 Axes>"
      ]
     },
     "metadata": {
      "needs_background": "light"
     },
     "output_type": "display_data"
    }
   ],
   "source": [
    "plt.plot(features_range, accuracy_scores)\n",
    "plt.xlabel('Features')\n",
    "plt.ylabel('Accuracy')"
   ]
  },
  {
   "cell_type": "markdown",
   "metadata": {},
   "source": [
    "Donde luego de usar más de 2 variables, la precisión del modelo en test tiende a estabilizarse, lo cual se podría explicar dado que en este modelo no se está haciendo un ensamble y adicionalmente deben existir 2 variables más representativas o con mayor peso a la hora de realizar la clasificación"
   ]
  },
  {
   "cell_type": "markdown",
   "metadata": {},
   "source": [
    "# Exercise 8.4\n",
    "\n",
    "Estimate a Bagging of 10 Decision Tree Classifiers with `max_features = log(n_features)`\n",
    "\n",
    "Evaluate the accuracy on the testing set"
   ]
  },
  {
   "cell_type": "code",
   "execution_count": 47,
   "metadata": {},
   "outputs": [
    {
     "data": {
      "text/plain": [
       "[array([ 561, 8671, 7581, ..., 5941, 4622,  753]),\n",
       " array([3164, 3318, 8243, ..., 6224, 4327, 3213]),\n",
       " array([7648, 2326, 4731, ...,  183, 8679, 2312]),\n",
       " array([3891, 5780, 5531, ..., 1309, 3123, 8690]),\n",
       " array([3256, 3893, 6526, ..., 5683,  211, 2583]),\n",
       " array([2574, 8502, 5537, ..., 7856,  588, 4528]),\n",
       " array([1186, 1222, 3326, ..., 4558, 6660, 1120]),\n",
       " array([3121, 3601, 1772, ..., 4926, 2570, 5889]),\n",
       " array([3758, 8537, 8448, ..., 3375, 2236, 7761]),\n",
       " array([2200,  319, 5979, ..., 5574,  284, 7476])]"
      ]
     },
     "execution_count": 47,
     "metadata": {},
     "output_type": "execute_result"
    }
   ],
   "source": [
    "# Se fija la semilla para replicabilidad\n",
    "np.random.seed(543)\n",
    "\n",
    "n_samples2 = X_train.shape[0]\n",
    "n_features = X_train.shape[1]\n",
    "n_B2 = 10\n",
    "\n",
    "# Se crean las 10 muestras de bootstrap, seleccionando diferentes filas del dataframe\n",
    "samples2 = [np.random.choice(a=n_samples2, size=n_samples2, replace=True) for _ in range(1, n_B2 +1 )]\n",
    "samples2"
   ]
  },
  {
   "cell_type": "markdown",
   "metadata": {},
   "source": [
    "Se crea un árbol con cada muestra de datos creada del set de train"
   ]
  },
  {
   "cell_type": "code",
   "execution_count": 68,
   "metadata": {},
   "outputs": [],
   "source": [
    "from sklearn.tree import DecisionTreeRegressor\n",
    "#Se crea la variable que va a tomar el valor de log(n_features) para el parámetro max_features\n",
    "b= np.round(np.log(n_features)).astype('int')\n",
    "# Se define la creación del árbol \n",
    "treereg2 = DecisionTreeRegressor(max_depth=None, max_features =b , random_state=543)\n",
    "\n",
    "# Se almacena la predicción de cada árbol\n",
    "y_pred2 = pd.DataFrame(index=X_test.index, columns=[list(range(n_B2))])"
   ]
  },
  {
   "cell_type": "code",
   "execution_count": 69,
   "metadata": {},
   "outputs": [],
   "source": [
    "# Se crea cada árbol con cada muestra de bootstrap y se realizan las predicciones con el set de test\n",
    "for i, sample in enumerate(samples2):\n",
    "    X_train2 = X_train.iloc[sample]\n",
    "    y_train2 = y_train.iloc[sample]\n",
    "    treereg2.fit(X_train2, y_train2)\n",
    "    y_pred2[i] = treereg2.predict(X_test).astype('int')"
   ]
  },
  {
   "cell_type": "code",
   "execution_count": 70,
   "metadata": {},
   "outputs": [
    {
     "data": {
      "text/html": [
       "<div>\n",
       "<style scoped>\n",
       "    .dataframe tbody tr th:only-of-type {\n",
       "        vertical-align: middle;\n",
       "    }\n",
       "\n",
       "    .dataframe tbody tr th {\n",
       "        vertical-align: top;\n",
       "    }\n",
       "\n",
       "    .dataframe thead tr th {\n",
       "        text-align: left;\n",
       "    }\n",
       "</style>\n",
       "<table border=\"1\" class=\"dataframe\">\n",
       "  <thead>\n",
       "    <tr>\n",
       "      <th></th>\n",
       "      <th>0</th>\n",
       "      <th>1</th>\n",
       "      <th>2</th>\n",
       "      <th>3</th>\n",
       "      <th>4</th>\n",
       "      <th>5</th>\n",
       "      <th>6</th>\n",
       "      <th>7</th>\n",
       "      <th>8</th>\n",
       "      <th>9</th>\n",
       "    </tr>\n",
       "  </thead>\n",
       "  <tbody>\n",
       "    <tr>\n",
       "      <th>332784</th>\n",
       "      <td>0</td>\n",
       "      <td>0</td>\n",
       "      <td>1</td>\n",
       "      <td>1</td>\n",
       "      <td>0</td>\n",
       "      <td>0</td>\n",
       "      <td>0</td>\n",
       "      <td>1</td>\n",
       "      <td>0</td>\n",
       "      <td>1</td>\n",
       "    </tr>\n",
       "    <tr>\n",
       "      <th>146436</th>\n",
       "      <td>1</td>\n",
       "      <td>1</td>\n",
       "      <td>1</td>\n",
       "      <td>1</td>\n",
       "      <td>1</td>\n",
       "      <td>1</td>\n",
       "      <td>1</td>\n",
       "      <td>1</td>\n",
       "      <td>1</td>\n",
       "      <td>1</td>\n",
       "    </tr>\n",
       "    <tr>\n",
       "      <th>130476</th>\n",
       "      <td>1</td>\n",
       "      <td>1</td>\n",
       "      <td>1</td>\n",
       "      <td>1</td>\n",
       "      <td>1</td>\n",
       "      <td>1</td>\n",
       "      <td>1</td>\n",
       "      <td>1</td>\n",
       "      <td>1</td>\n",
       "      <td>1</td>\n",
       "    </tr>\n",
       "    <tr>\n",
       "      <th>85618</th>\n",
       "      <td>1</td>\n",
       "      <td>1</td>\n",
       "      <td>1</td>\n",
       "      <td>1</td>\n",
       "      <td>1</td>\n",
       "      <td>1</td>\n",
       "      <td>1</td>\n",
       "      <td>1</td>\n",
       "      <td>1</td>\n",
       "      <td>1</td>\n",
       "    </tr>\n",
       "    <tr>\n",
       "      <th>75474</th>\n",
       "      <td>0</td>\n",
       "      <td>0</td>\n",
       "      <td>0</td>\n",
       "      <td>0</td>\n",
       "      <td>0</td>\n",
       "      <td>0</td>\n",
       "      <td>0</td>\n",
       "      <td>0</td>\n",
       "      <td>0</td>\n",
       "      <td>0</td>\n",
       "    </tr>\n",
       "    <tr>\n",
       "      <th>...</th>\n",
       "      <td>...</td>\n",
       "      <td>...</td>\n",
       "      <td>...</td>\n",
       "      <td>...</td>\n",
       "      <td>...</td>\n",
       "      <td>...</td>\n",
       "      <td>...</td>\n",
       "      <td>...</td>\n",
       "      <td>...</td>\n",
       "      <td>...</td>\n",
       "    </tr>\n",
       "    <tr>\n",
       "      <th>244795</th>\n",
       "      <td>1</td>\n",
       "      <td>1</td>\n",
       "      <td>1</td>\n",
       "      <td>1</td>\n",
       "      <td>1</td>\n",
       "      <td>1</td>\n",
       "      <td>1</td>\n",
       "      <td>1</td>\n",
       "      <td>1</td>\n",
       "      <td>1</td>\n",
       "    </tr>\n",
       "    <tr>\n",
       "      <th>366403</th>\n",
       "      <td>0</td>\n",
       "      <td>0</td>\n",
       "      <td>0</td>\n",
       "      <td>0</td>\n",
       "      <td>0</td>\n",
       "      <td>0</td>\n",
       "      <td>0</td>\n",
       "      <td>0</td>\n",
       "      <td>0</td>\n",
       "      <td>0</td>\n",
       "    </tr>\n",
       "    <tr>\n",
       "      <th>269482</th>\n",
       "      <td>1</td>\n",
       "      <td>1</td>\n",
       "      <td>1</td>\n",
       "      <td>1</td>\n",
       "      <td>1</td>\n",
       "      <td>1</td>\n",
       "      <td>0</td>\n",
       "      <td>1</td>\n",
       "      <td>1</td>\n",
       "      <td>1</td>\n",
       "    </tr>\n",
       "    <tr>\n",
       "      <th>5010</th>\n",
       "      <td>1</td>\n",
       "      <td>1</td>\n",
       "      <td>1</td>\n",
       "      <td>1</td>\n",
       "      <td>1</td>\n",
       "      <td>1</td>\n",
       "      <td>1</td>\n",
       "      <td>1</td>\n",
       "      <td>1</td>\n",
       "      <td>1</td>\n",
       "    </tr>\n",
       "    <tr>\n",
       "      <th>310628</th>\n",
       "      <td>0</td>\n",
       "      <td>0</td>\n",
       "      <td>0</td>\n",
       "      <td>0</td>\n",
       "      <td>0</td>\n",
       "      <td>0</td>\n",
       "      <td>0</td>\n",
       "      <td>0</td>\n",
       "      <td>0</td>\n",
       "      <td>0</td>\n",
       "    </tr>\n",
       "  </tbody>\n",
       "</table>\n",
       "<p>4340 rows × 10 columns</p>\n",
       "</div>"
      ],
      "text/plain": [
       "        0  1  2  3  4  5  6  7  8  9\n",
       "332784  0  0  1  1  0  0  0  1  0  1\n",
       "146436  1  1  1  1  1  1  1  1  1  1\n",
       "130476  1  1  1  1  1  1  1  1  1  1\n",
       "85618   1  1  1  1  1  1  1  1  1  1\n",
       "75474   0  0  0  0  0  0  0  0  0  0\n",
       "...    .. .. .. .. .. .. .. .. .. ..\n",
       "244795  1  1  1  1  1  1  1  1  1  1\n",
       "366403  0  0  0  0  0  0  0  0  0  0\n",
       "269482  1  1  1  1  1  1  0  1  1  1\n",
       "5010    1  1  1  1  1  1  1  1  1  1\n",
       "310628  0  0  0  0  0  0  0  0  0  0\n",
       "\n",
       "[4340 rows x 10 columns]"
      ]
     },
     "execution_count": 70,
     "metadata": {},
     "output_type": "execute_result"
    }
   ],
   "source": [
    "y_pred2"
   ]
  },
  {
   "cell_type": "code",
   "execution_count": 79,
   "metadata": {},
   "outputs": [
    {
     "name": "stdout",
     "output_type": "stream",
     "text": [
      "0 0.841705069124424\n",
      "1 0.8357142857142857\n",
      "2 0.8359447004608295\n",
      "3 0.8347926267281106\n",
      "4 0.8352534562211982\n",
      "5 0.8354838709677419\n",
      "6 0.8313364055299539\n",
      "7 0.8366359447004609\n",
      "8 0.8297235023041475\n",
      "9 0.8357142857142857\n"
     ]
    }
   ],
   "source": [
    "#Resultado de cada árbol\n",
    "for i in range(n_B2):\n",
    "    print(i, accuracy_score(y_test,y_pred2[i]))"
   ]
  },
  {
   "cell_type": "markdown",
   "metadata": {},
   "source": [
    "Resultados del ensamble"
   ]
  },
  {
   "cell_type": "code",
   "execution_count": 77,
   "metadata": {},
   "outputs": [
    {
     "data": {
      "text/plain": [
       "332784    0\n",
       "146436    1\n",
       "130476    1\n",
       "85618     1\n",
       "75474     0\n",
       "         ..\n",
       "244795    1\n",
       "366403    0\n",
       "269482    1\n",
       "5010      1\n",
       "310628    0\n",
       "Length: 4340, dtype: int32"
      ]
     },
     "execution_count": 77,
     "metadata": {},
     "output_type": "execute_result"
    }
   ],
   "source": [
    "pred_ensamble2=np.round(y_pred2.mean(axis=1)).astype('int')\n",
    "pred_ensamble2"
   ]
  },
  {
   "cell_type": "code",
   "execution_count": 78,
   "metadata": {},
   "outputs": [
    {
     "data": {
      "text/plain": [
       "0.8389400921658986"
      ]
     },
     "execution_count": 78,
     "metadata": {},
     "output_type": "execute_result"
    }
   ],
   "source": [
    "accuracy_score(y_test,pred_ensamble2)"
   ]
  },
  {
   "cell_type": "markdown",
   "metadata": {},
   "source": [
    "Al tomar el valor de las variables máximas a tomar para hacer la muestra de cada bootstraping como log(n_features), es decir log(9) ≈ 2, se evidencia que el ensamble no es tan efectivo como cuando se tomo el total de las variables (9), ya que para este caso la precisión no alcanza a mejorar la mejor precisión del modelo individual (0.8417)"
   ]
  },
  {
   "cell_type": "markdown",
   "metadata": {},
   "source": [
    "# Exercise 8.5\n",
    "\n",
    "Using sklearn, train a RandomForestClassifier\n",
    "\n",
    "Evaluate the accuracy on the testing set"
   ]
  },
  {
   "cell_type": "code",
   "execution_count": 81,
   "metadata": {},
   "outputs": [
    {
     "data": {
      "text/plain": [
       "RandomForestClassifier()"
      ]
     },
     "execution_count": 81,
     "metadata": {},
     "output_type": "execute_result"
    }
   ],
   "source": [
    "from sklearn.ensemble import RandomForestClassifier\n",
    "from sklearn.model_selection import cross_val_score\n",
    "\n",
    "clf = RandomForestClassifier()\n",
    "clf"
   ]
  },
  {
   "cell_type": "code",
   "execution_count": 83,
   "metadata": {},
   "outputs": [],
   "source": [
    "modelclf=clf.fit(X_train,y_train)"
   ]
  },
  {
   "cell_type": "code",
   "execution_count": 86,
   "metadata": {},
   "outputs": [
    {
     "data": {
      "text/plain": [
       "array([0, 1, 1, ..., 1, 1, 0])"
      ]
     },
     "execution_count": 86,
     "metadata": {},
     "output_type": "execute_result"
    }
   ],
   "source": [
    "predclf=modelclf.predict(X_test).astype('int')\n",
    "predclf"
   ]
  },
  {
   "cell_type": "code",
   "execution_count": 87,
   "metadata": {},
   "outputs": [
    {
     "data": {
      "text/plain": [
       "0.8377880184331797"
      ]
     },
     "execution_count": 87,
     "metadata": {},
     "output_type": "execute_result"
    }
   ],
   "source": [
    "accuracy_score(y_test,predclf)"
   ]
  },
  {
   "cell_type": "markdown",
   "metadata": {},
   "source": [
    "# Exercise 8.6\n",
    "\n",
    "Find the best parameters of the RandomForestClassifier (max_depth, max_features, n_estimators)\n",
    "\n",
    "Evaluate the accuracy on the testing set"
   ]
  },
  {
   "cell_type": "code",
   "execution_count": 100,
   "metadata": {},
   "outputs": [
    {
     "data": {
      "text/plain": [
       "RandomForestClassifier()"
      ]
     },
     "execution_count": 100,
     "metadata": {},
     "output_type": "execute_result"
    }
   ],
   "source": [
    "from sklearn.ensemble import RandomForestClassifier\n",
    "from sklearn.model_selection import cross_val_score\n",
    "import warnings; \n",
    "import matplotlib.pyplot as plt\n",
    "warnings.simplefilter('ignore')\n",
    "clf2 = RandomForestClassifier()\n",
    "clf2"
   ]
  },
  {
   "cell_type": "markdown",
   "metadata": {},
   "source": [
    "Calibrando el número de árboles"
   ]
  },
  {
   "cell_type": "code",
   "execution_count": 101,
   "metadata": {},
   "outputs": [],
   "source": [
    "# Lista de número de árboles a crear para el ensamble\n",
    "estimator_range = range(0, 2000, 100)\n",
    "\n",
    "# lista para almacenar la precisión promedio para cada valor del número de árboles\n",
    "accuracy_scores = []\n",
    "\n",
    "# Se usan 5 particiones para realizar cross-validation para cada valor del número de árboles\n",
    "for estimator in estimator_range:\n",
    "    clf2 = RandomForestClassifier(n_estimators=estimator, random_state=1, n_jobs=-1)\n",
    "    accuracy_scores.append(cross_val_score(clf2, X_train, y_train, cv=5, scoring='accuracy').mean())"
   ]
  },
  {
   "cell_type": "code",
   "execution_count": 102,
   "metadata": {},
   "outputs": [
    {
     "data": {
      "text/plain": [
       "Text(0, 0.5, 'Accuracy')"
      ]
     },
     "execution_count": 102,
     "metadata": {},
     "output_type": "execute_result"
    },
    {
     "data": {
      "image/png": "[encoded data removed]",
      "text/plain": [
       "<Figure size 432x288 with 1 Axes>"
      ]
     },
     "metadata": {
      "needs_background": "light"
     },
     "output_type": "display_data"
    }
   ],
   "source": [
    "#Se grafican los resultados\n",
    "plt.plot(estimator_range, accuracy_scores)\n",
    "plt.xlabel('n_estimators')\n",
    "plt.ylabel('Accuracy')"
   ]
  },
  {
   "cell_type": "markdown",
   "metadata": {},
   "source": [
    "Se evidencia que la precisión del modelo no varia mucho con el número de árboles, y tiene su mayor desempeño aproximadamente en 100, por lo cual se va a tomar dicho valor"
   ]
  },
  {
   "cell_type": "markdown",
   "metadata": {},
   "source": [
    "Calibrando max_features"
   ]
  },
  {
   "cell_type": "code",
   "execution_count": 111,
   "metadata": {},
   "outputs": [],
   "source": [
    "# lista de valores para max_feature\n",
    "feature_cols=X_train.shape[1]\n",
    "feature_range = range(1, feature_cols+1)\n",
    "\n",
    "# lista para almacenar la precisión promedio para cada valor de número variables\n",
    "accuracy_scores = []\n",
    "\n",
    "# Se usan 5 particiones para realizar cross-validation para cada valor del número de variables,\n",
    "# y se establece el número de árboles en 100 de acuerdo con el punto anterior\n",
    "for feature in feature_range:\n",
    "    clf2 = RandomForestClassifier(n_estimators=100, max_features=feature, random_state=1, n_jobs=-1)\n",
    "    accuracy_scores.append(cross_val_score(clf2, X_train, y_train, cv=5, scoring='accuracy').mean())"
   ]
  },
  {
   "cell_type": "code",
   "execution_count": 112,
   "metadata": {},
   "outputs": [
    {
     "data": {
      "text/plain": [
       "Text(0, 0.5, 'Accuracy')"
      ]
     },
     "execution_count": 112,
     "metadata": {},
     "output_type": "execute_result"
    },
    {
     "data": {
      "image/png": "[encoded data removed]",
      "text/plain": [
       "<Figure size 432x288 with 1 Axes>"
      ]
     },
     "metadata": {
      "needs_background": "light"
     },
     "output_type": "display_data"
    }
   ],
   "source": [
    "plt.plot(feature_range, accuracy_scores)\n",
    "plt.xlabel('max_features')\n",
    "plt.ylabel('Accuracy')"
   ]
  },
  {
   "cell_type": "markdown",
   "metadata": {},
   "source": [
    "Encontrando la mejor precisión usando todas las variables"
   ]
  },
  {
   "cell_type": "markdown",
   "metadata": {},
   "source": [
    "Calibrando max_depth"
   ]
  },
  {
   "cell_type": "code",
   "execution_count": 148,
   "metadata": {},
   "outputs": [],
   "source": [
    "# lista de valores para la profundidad del árbol\n",
    "depth_range = range(1, 20)\n",
    "\n",
    "# lista para almacenar la precisión promedio para cada valor de número variables\n",
    "accuracy_scores = []\n",
    "\n",
    "# Se usan 5 particiones para realizar cross-validation para cada valor del número de variables,\n",
    "# y se establece el número de árboles en 100 y max_features en 9 de acuerdo con el punto anterior\n",
    "for estimator in depth_range:\n",
    "    clf2 = RandomForestClassifier(n_estimators=100, max_features=9, max_depth= estimator,random_state=1, n_jobs=-1)\n",
    "    accuracy_scores.append(cross_val_score(clf2, X_train, y_train, cv=5, scoring='accuracy').mean())"
   ]
  },
  {
   "cell_type": "code",
   "execution_count": 149,
   "metadata": {},
   "outputs": [
    {
     "data": {
      "text/plain": [
       "Text(0, 0.5, 'Accuracy')"
      ]
     },
     "execution_count": 149,
     "metadata": {},
     "output_type": "execute_result"
    },
    {
     "data": {
      "image/png": "[encoded data removed]",
      "text/plain": [
       "<Figure size 432x288 with 1 Axes>"
      ]
     },
     "metadata": {
      "needs_background": "light"
     },
     "output_type": "display_data"
    }
   ],
   "source": [
    "plt.plot(depth_range, accuracy_scores)\n",
    "plt.xlabel('max_depth')\n",
    "plt.ylabel('Accuracy')"
   ]
  },
  {
   "cell_type": "markdown",
   "metadata": {},
   "source": [
    "Encontrando la mejor precisión usando una profundidad de 5"
   ]
  },
  {
   "cell_type": "code",
   "execution_count": 150,
   "metadata": {},
   "outputs": [
    {
     "data": {
      "text/plain": [
       "RandomForestClassifier(max_depth=5, max_features=9, n_jobs=-1, random_state=1)"
      ]
     },
     "execution_count": 150,
     "metadata": {},
     "output_type": "execute_result"
    }
   ],
   "source": [
    "clf2 = RandomForestClassifier(n_estimators=100, max_features=9, max_depth= 5,random_state=1, n_jobs=-1)\n",
    "clf2.fit(X_train, y_train)"
   ]
  },
  {
   "cell_type": "code",
   "execution_count": 151,
   "metadata": {},
   "outputs": [
    {
     "data": {
      "text/plain": [
       "array([1, 1, 1, ..., 1, 1, 0])"
      ]
     },
     "execution_count": 151,
     "metadata": {},
     "output_type": "execute_result"
    }
   ],
   "source": [
    "predclf2=clf2.predict(X_test).astype('int')\n",
    "predclf2"
   ]
  },
  {
   "cell_type": "code",
   "execution_count": 152,
   "metadata": {},
   "outputs": [
    {
     "data": {
      "text/plain": [
       "0.8797235023041474"
      ]
     },
     "execution_count": 152,
     "metadata": {},
     "output_type": "execute_result"
    }
   ],
   "source": [
    "accuracy_score(y_test,predclf2)"
   ]
  },
  {
   "cell_type": "markdown",
   "metadata": {},
   "source": [
    "Obteniendo una mayor precisión que con el modelo sin calibrar"
   ]
  },
  {
   "cell_type": "markdown",
   "metadata": {},
   "source": [
    "# Exercise 8.7 \n",
    "\n",
    "Using xgboost train a XGBClassifier \n",
    "\n",
    "Evaluate the accuracy on the testing set"
   ]
  },
  {
   "cell_type": "code",
   "execution_count": 135,
   "metadata": {},
   "outputs": [
    {
     "data": {
      "text/plain": [
       "XGBClassifier(base_score=None, booster=None, colsample_bylevel=None,\n",
       "              colsample_bynode=None, colsample_bytree=None,\n",
       "              eval_metric='mlogloss', gamma=None, gpu_id=None,\n",
       "              importance_type='gain', interaction_constraints=None,\n",
       "              learning_rate=None, max_delta_step=None, max_depth=None,\n",
       "              min_child_weight=None, missing=nan, monotone_constraints=None,\n",
       "              n_estimators=100, n_jobs=None, num_parallel_tree=None,\n",
       "              random_state=None, reg_alpha=None, reg_lambda=None,\n",
       "              scale_pos_weight=None, subsample=None, tree_method=None,\n",
       "              validate_parameters=None, verbosity=None)"
      ]
     },
     "execution_count": 135,
     "metadata": {},
     "output_type": "execute_result"
    }
   ],
   "source": [
    "from xgboost import XGBClassifier\n",
    "\n",
    "clf3 = XGBClassifier(eval_metric='mlogloss')\n",
    "clf3"
   ]
  },
  {
   "cell_type": "code",
   "execution_count": 136,
   "metadata": {},
   "outputs": [],
   "source": [
    "clf3.fit(X_train, y_train)\n",
    "predclf3 = clf3.predict(X_test)"
   ]
  },
  {
   "cell_type": "code",
   "execution_count": 137,
   "metadata": {},
   "outputs": [
    {
     "data": {
      "text/plain": [
       "0.8790322580645161"
      ]
     },
     "execution_count": 137,
     "metadata": {},
     "output_type": "execute_result"
    }
   ],
   "source": [
    "accuracy_score(y_test,predclf3)"
   ]
  },
  {
   "cell_type": "markdown",
   "metadata": {},
   "source": [
    "# Exercise 8.8\n",
    "\n",
    "Using xgboost train a XGBClassifier \n",
    "\n",
    "Modify the parameters learning rate, gamma, colsample_bytree. Explain what each parameter means.\n",
    "\n",
    "Evaluate the accuracy on the testing set"
   ]
  },
  {
   "cell_type": "code",
   "execution_count": 126,
   "metadata": {},
   "outputs": [
    {
     "data": {
      "text/plain": [
       "XGBClassifier(base_score=None, booster=None, colsample_bylevel=None,\n",
       "              colsample_bynode=None, colsample_bytree=None, gamma=None,\n",
       "              gpu_id=None, importance_type='gain', interaction_constraints=None,\n",
       "              learning_rate=None, max_delta_step=None, max_depth=None,\n",
       "              min_child_weight=None, missing=nan, monotone_constraints=None,\n",
       "              n_estimators=100, n_jobs=None, num_parallel_tree=None,\n",
       "              random_state=None, reg_alpha=None, reg_lambda=None,\n",
       "              scale_pos_weight=None, subsample=None, tree_method=None,\n",
       "              validate_parameters=None, verbosity=None)"
      ]
     },
     "execution_count": 126,
     "metadata": {},
     "output_type": "execute_result"
    }
   ],
   "source": [
    "clf4 = XGBClassifier()\n",
    "clf4"
   ]
  },
  {
   "cell_type": "markdown",
   "metadata": {},
   "source": [
    "#### Learning rate\n",
    "La tasa de aprendizaje reduce la contribución de cada árbol para el aprendizaje del modelo ensamblado (entre 0 y 1), para evitar el sobre ajuste."
   ]
  },
  {
   "cell_type": "code",
   "execution_count": 138,
   "metadata": {},
   "outputs": [],
   "source": [
    "# Rango para los cuales se va a probar la tasa de aprendizaje\n",
    "estimator_range = np.arange(0, 1, 0.05)\n",
    "\n",
    "# lista para almacenar la precisión promedio para cada valor de la tasa de aprendizaje\n",
    "accuracy_scores = []\n",
    "\n",
    "# Se usan 5 particiones para realizar cross-validation para cada valor de la tasa de aprensizaje\n",
    "for estimator in estimator_range:\n",
    "    clf4 = XGBClassifier(learning_rate=estimator,eval_metric='mlogloss')\n",
    "    accuracy_scores.append(cross_val_score(clf4, X_train, y_train, cv=5, scoring='accuracy').mean())"
   ]
  },
  {
   "cell_type": "code",
   "execution_count": 139,
   "metadata": {},
   "outputs": [
    {
     "data": {
      "text/plain": [
       "Text(0, 0.5, 'Accuracy')"
      ]
     },
     "execution_count": 139,
     "metadata": {},
     "output_type": "execute_result"
    },
    {
     "data": {
      "image/png": "[encoded data removed]",
      "text/plain": [
       "<Figure size 432x288 with 1 Axes>"
      ]
     },
     "metadata": {
      "needs_background": "light"
     },
     "output_type": "display_data"
    }
   ],
   "source": [
    "plt.plot(estimator_range, accuracy_scores)\n",
    "plt.xlabel('learning_rate')\n",
    "plt.ylabel('Accuracy')"
   ]
  },
  {
   "cell_type": "markdown",
   "metadata": {},
   "source": [
    "Donde la mejor precisión se obtiene aproximadamente con un learnin_rate de 0.05"
   ]
  },
  {
   "cell_type": "markdown",
   "metadata": {},
   "source": [
    "#### gamma\n",
    "El parámetro Gamma especifica la reducción de pérdida mínima necesaria para realizar una división en un nodo. Hace que el algoritmo sea conservador. Entre (0, ∞)"
   ]
  },
  {
   "cell_type": "code",
   "execution_count": 140,
   "metadata": {},
   "outputs": [],
   "source": [
    "# Rango para los cuales se va a probar el valor gamma\n",
    "gamma_range = range(0, 20, 2)\n",
    "\n",
    "# lista para almacenar la precisión promedio para cada valor de gamma\n",
    "accuracy_scores = []\n",
    "\n",
    "# Se usan 5 particiones para realizar cross-validation para cada valor de gamma,se usa el valor de 0.05 para la tasa de \n",
    "# aprendizaje de acuerdo con el punto anterior\n",
    "for estimator in gamma_range:\n",
    "    clf4 = XGBClassifier(learning_rate=0.5, gamma= estimator, eval_metric='mlogloss')\n",
    "    accuracy_scores.append(cross_val_score(clf4, X_train, y_train, cv=5, scoring='accuracy').mean())"
   ]
  },
  {
   "cell_type": "code",
   "execution_count": 141,
   "metadata": {},
   "outputs": [
    {
     "data": {
      "text/plain": [
       "Text(0, 0.5, 'Accuracy')"
      ]
     },
     "execution_count": 141,
     "metadata": {},
     "output_type": "execute_result"
    },
    {
     "data": {
      "image/png": "[encoded data removed]",
      "text/plain": [
       "<Figure size 432x288 with 1 Axes>"
      ]
     },
     "metadata": {
      "needs_background": "light"
     },
     "output_type": "display_data"
    }
   ],
   "source": [
    "plt.plot(gamma_range, accuracy_scores)\n",
    "plt.xlabel('gamma')\n",
    "plt.ylabel('Accuracy')"
   ]
  },
  {
   "cell_type": "markdown",
   "metadata": {},
   "source": [
    "Donde la mejor precisión se obtiene aproximadamente con un gamma de 8"
   ]
  },
  {
   "cell_type": "markdown",
   "metadata": {},
   "source": [
    "#### colsample_bytree\n",
    "El parámetro colsample_bytree especifica la cantidad de columnas a usar para construir cada submuestra con la que se construira cada árbol. Entre (0, 1)"
   ]
  },
  {
   "cell_type": "code",
   "execution_count": 143,
   "metadata": {},
   "outputs": [],
   "source": [
    "# Rango para los cuales se va a probar el valor colsample_bytree\n",
    "colsampletree_range = np.arange(0, 1, 0.1)\n",
    "\n",
    "# lista para almacenar la precisión promedio para cada valor de colsample_bytree\n",
    "accuracy_scores = []\n",
    "\n",
    "# Se usan 5 particiones para realizar cross-validation para cada valor de colsample_bytree,se usa el valor de 0.05 para la \n",
    "#tasa de aprendizaje y 8 para gamma de acuerdo con el punto anterior\n",
    "for estimator in colsampletree_range:\n",
    "    clf4 = XGBClassifier(learning_rate=0.5, gamma= 8, colsample_bytree=estimator, eval_metric='mlogloss')\n",
    "    accuracy_scores.append(cross_val_score(clf4, X_train, y_train, cv=5, scoring='accuracy').mean())"
   ]
  },
  {
   "cell_type": "code",
   "execution_count": 144,
   "metadata": {},
   "outputs": [
    {
     "data": {
      "text/plain": [
       "Text(0, 0.5, 'Accuracy')"
      ]
     },
     "execution_count": 144,
     "metadata": {},
     "output_type": "execute_result"
    },
    {
     "data": {
      "image/png": "[encoded data removed]",
      "text/plain": [
       "<Figure size 432x288 with 1 Axes>"
      ]
     },
     "metadata": {
      "needs_background": "light"
     },
     "output_type": "display_data"
    }
   ],
   "source": [
    "plt.plot(colsampletree_range, accuracy_scores)\n",
    "plt.xlabel('colsample_bytree')\n",
    "plt.ylabel('Accuracy')"
   ]
  },
  {
   "cell_type": "markdown",
   "metadata": {},
   "source": [
    "Donde la mejor precisión se obtiene aproximadamente con un colsample_bytree de 0.7"
   ]
  },
  {
   "cell_type": "code",
   "execution_count": 145,
   "metadata": {},
   "outputs": [],
   "source": [
    "#Se ejecuta el modelo con los mejores parámetros encontrados\n",
    "clf4 = XGBClassifier(learning_rate=0.5, gamma= 8, colsample_bytree=0.7, eval_metric='mlogloss')"
   ]
  },
  {
   "cell_type": "code",
   "execution_count": 146,
   "metadata": {},
   "outputs": [],
   "source": [
    "clf4.fit(X_train, y_train)\n",
    "predclf4 = clf4.predict(X_test)"
   ]
  },
  {
   "cell_type": "code",
   "execution_count": 147,
   "metadata": {},
   "outputs": [
    {
     "data": {
      "text/plain": [
       "0.881336405529954"
      ]
     },
     "execution_count": 147,
     "metadata": {},
     "output_type": "execute_result"
    }
   ],
   "source": [
    "accuracy_score(y_test,predclf4)"
   ]
  },
  {
   "cell_type": "markdown",
   "metadata": {},
   "source": [
    "Donde se mejora la precisión versus el modelo de XGBClassifier sin calibración (pasando de 0.879 a 0.881), siendo el mejor modelo de los probados durante todo el ejercicio"
   ]
  }
 ],
 "metadata": {
  "kernelspec": {
   "display_name": "Python 3",
   "language": "python",
   "name": "python3"
  },
  "language_info": {
   "codemirror_mode": {
    "name": "ipython",
    "version": 3
   },
   "file_extension": ".py",
   "mimetype": "text/x-python",
   "name": "python",
   "nbconvert_exporter": "python",
   "pygments_lexer": "ipython3",
   "version": "3.8.8"
  }
 },
 "nbformat": 4,
 "nbformat_minor": 4
}
